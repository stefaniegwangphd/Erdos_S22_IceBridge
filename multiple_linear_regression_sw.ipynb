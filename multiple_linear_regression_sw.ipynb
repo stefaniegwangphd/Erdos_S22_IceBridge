{
 "cells": [
  {
   "cell_type": "code",
   "execution_count": 1,
   "id": "361cdf6f",
   "metadata": {},
   "outputs": [],
   "source": [
    "import pandas as pd\n",
    "import numpy as np\n",
    "import seaborn as sns\n",
    "import matplotlib\n",
    "import matplotlib.pyplot as plt"
   ]
  },
  {
   "cell_type": "code",
   "execution_count": 2,
   "id": "09735dca",
   "metadata": {},
   "outputs": [],
   "source": [
    "df = pd.read_csv('apartments_final.csv')"
   ]
  },
  {
   "cell_type": "code",
   "execution_count": 3,
   "id": "e19eba4e",
   "metadata": {
    "scrolled": true
   },
   "outputs": [
    {
     "data": {
      "text/html": [
       "<div>\n",
       "<style scoped>\n",
       "    .dataframe tbody tr th:only-of-type {\n",
       "        vertical-align: middle;\n",
       "    }\n",
       "\n",
       "    .dataframe tbody tr th {\n",
       "        vertical-align: top;\n",
       "    }\n",
       "\n",
       "    .dataframe thead th {\n",
       "        text-align: right;\n",
       "    }\n",
       "</style>\n",
       "<table border=\"1\" class=\"dataframe\">\n",
       "  <thead>\n",
       "    <tr style=\"text-align: right;\">\n",
       "      <th></th>\n",
       "      <th>url</th>\n",
       "      <th>listing_id</th>\n",
       "      <th>zipcode</th>\n",
       "      <th>monthly_rent</th>\n",
       "      <th>bedrooms</th>\n",
       "      <th>bathrooms</th>\n",
       "      <th>square_feet</th>\n",
       "      <th>walk_score</th>\n",
       "      <th>transit_score</th>\n",
       "      <th>deposit</th>\n",
       "      <th>latitude</th>\n",
       "      <th>longitude</th>\n",
       "      <th>neighborhood</th>\n",
       "      <th>nbhd</th>\n",
       "    </tr>\n",
       "  </thead>\n",
       "  <tbody>\n",
       "    <tr>\n",
       "      <th>0</th>\n",
       "      <td>https://www.apartments.com/2372-beckwith-dr-in...</td>\n",
       "      <td>ze0jqwy</td>\n",
       "      <td>46218</td>\n",
       "      <td>751</td>\n",
       "      <td>2</td>\n",
       "      <td>1.0</td>\n",
       "      <td>679.0</td>\n",
       "      <td>25</td>\n",
       "      <td>33</td>\n",
       "      <td>705</td>\n",
       "      <td>39.80125</td>\n",
       "      <td>-86.12643</td>\n",
       "      <td>Martindale-Brightwood</td>\n",
       "      <td>Martindale-Brightwood</td>\n",
       "    </tr>\n",
       "    <tr>\n",
       "      <th>1</th>\n",
       "      <td>https://www.apartments.com/7491-n-shadeland-av...</td>\n",
       "      <td>s34dq64</td>\n",
       "      <td>46250</td>\n",
       "      <td>1795</td>\n",
       "      <td>3</td>\n",
       "      <td>2.0</td>\n",
       "      <td>2500.0</td>\n",
       "      <td>54</td>\n",
       "      <td>33</td>\n",
       "      <td>1795</td>\n",
       "      <td>39.89034</td>\n",
       "      <td>-86.04540</td>\n",
       "      <td>I-69 Fall Creek</td>\n",
       "      <td>I-69 Fall Creek</td>\n",
       "    </tr>\n",
       "    <tr>\n",
       "      <th>2</th>\n",
       "      <td>https://www.apartments.com/nice-3-bedroom-ranc...</td>\n",
       "      <td>n669z9m</td>\n",
       "      <td>46237</td>\n",
       "      <td>1095</td>\n",
       "      <td>3</td>\n",
       "      <td>1.0</td>\n",
       "      <td>1439.0</td>\n",
       "      <td>29</td>\n",
       "      <td>32</td>\n",
       "      <td>1095</td>\n",
       "      <td>39.72238</td>\n",
       "      <td>-86.12113</td>\n",
       "      <td>University Heights</td>\n",
       "      <td>University Heights</td>\n",
       "    </tr>\n",
       "    <tr>\n",
       "      <th>3</th>\n",
       "      <td>https://www.apartments.com/1102-n-oakland-ave-...</td>\n",
       "      <td>c4kr5zf</td>\n",
       "      <td>46201</td>\n",
       "      <td>1300</td>\n",
       "      <td>3</td>\n",
       "      <td>1.5</td>\n",
       "      <td>1500.0</td>\n",
       "      <td>67</td>\n",
       "      <td>38</td>\n",
       "      <td>800</td>\n",
       "      <td>39.78265</td>\n",
       "      <td>-86.11278</td>\n",
       "      <td>Near Eastside</td>\n",
       "      <td>Near Eastside</td>\n",
       "    </tr>\n",
       "    <tr>\n",
       "      <th>4</th>\n",
       "      <td>https://www.apartments.com/634-e-10th-st-india...</td>\n",
       "      <td>rl2dfp0</td>\n",
       "      <td>46202</td>\n",
       "      <td>1600</td>\n",
       "      <td>2</td>\n",
       "      <td>2.0</td>\n",
       "      <td>1400.0</td>\n",
       "      <td>74</td>\n",
       "      <td>53</td>\n",
       "      <td>1600</td>\n",
       "      <td>39.78089</td>\n",
       "      <td>-86.14610</td>\n",
       "      <td>Chatham Arch</td>\n",
       "      <td>Chatham Arch</td>\n",
       "    </tr>\n",
       "  </tbody>\n",
       "</table>\n",
       "</div>"
      ],
      "text/plain": [
       "                                                 url listing_id  zipcode  \\\n",
       "0  https://www.apartments.com/2372-beckwith-dr-in...    ze0jqwy    46218   \n",
       "1  https://www.apartments.com/7491-n-shadeland-av...    s34dq64    46250   \n",
       "2  https://www.apartments.com/nice-3-bedroom-ranc...    n669z9m    46237   \n",
       "3  https://www.apartments.com/1102-n-oakland-ave-...    c4kr5zf    46201   \n",
       "4  https://www.apartments.com/634-e-10th-st-india...    rl2dfp0    46202   \n",
       "\n",
       "   monthly_rent  bedrooms  bathrooms  square_feet  walk_score  transit_score  \\\n",
       "0           751         2        1.0        679.0          25             33   \n",
       "1          1795         3        2.0       2500.0          54             33   \n",
       "2          1095         3        1.0       1439.0          29             32   \n",
       "3          1300         3        1.5       1500.0          67             38   \n",
       "4          1600         2        2.0       1400.0          74             53   \n",
       "\n",
       "   deposit  latitude  longitude           neighborhood                   nbhd  \n",
       "0      705  39.80125  -86.12643  Martindale-Brightwood  Martindale-Brightwood  \n",
       "1     1795  39.89034  -86.04540        I-69 Fall Creek        I-69 Fall Creek  \n",
       "2     1095  39.72238  -86.12113     University Heights     University Heights  \n",
       "3      800  39.78265  -86.11278          Near Eastside          Near Eastside  \n",
       "4     1600  39.78089  -86.14610           Chatham Arch           Chatham Arch  "
      ]
     },
     "execution_count": 3,
     "metadata": {},
     "output_type": "execute_result"
    }
   ],
   "source": [
    "df.head()"
   ]
  },
  {
   "cell_type": "markdown",
   "id": "e63b1f16",
   "metadata": {},
   "source": [
    "The goal is to predict monthly rent of an apartment using the following features: \n",
    "\n",
    "Features we must include:\n",
    "- Bedrooms\n",
    "- Bathrooms\n",
    "- Square Feet\n",
    "- Neighborhood\n",
    "\n",
    "Optional features:\n",
    "- Longitude\n",
    "- ZIP\n",
    "- Walk score\n",
    "- Transit score\n"
   ]
  },
  {
   "cell_type": "code",
   "execution_count": null,
   "id": "e7d0aa01",
   "metadata": {},
   "outputs": [],
   "source": [
    "ax, fig= plt.subplots(figsize=(10,6))\n",
    "ax= sns.heatmap(data=df.corr(), annot=True, linewidth=1);\n",
    "\n",
    "ax.set_title('Correlation');"
   ]
  },
  {
   "cell_type": "code",
   "execution_count": null,
   "id": "e3efb799",
   "metadata": {},
   "outputs": [],
   "source": [
    "#feature interaction\n",
    "#chose feature interaction for correlations higher than .6\n",
    "df['bedbath']=df['bedrooms']*df['bathrooms']\n",
    "df['sqft_bed']=df['square_feet']*df['bedrooms']\n",
    "df['sqft_bath']=df['square_feet']*df['bathrooms']"
   ]
  },
  {
   "cell_type": "code",
   "execution_count": null,
   "id": "fb60acff",
   "metadata": {},
   "outputs": [],
   "source": [
    "from sklearn.model_selection import train_test_split\n",
    "from sklearn.linear_model import LinearRegression\n",
    "from sklearn.model_selection import KFold\n",
    "from sklearn.metrics import mean_squared_error\n",
    "from sklearn import metrics"
   ]
  },
  {
   "cell_type": "code",
   "execution_count": null,
   "id": "1730da42",
   "metadata": {},
   "outputs": [],
   "source": [
    "#the function picks out the top 10% of neighborhoods listings\n",
    "df['nbhd']=df['neighborhood']\n",
    "nbhd_counts=df['neighborhood'].value_counts()\n",
    "\n",
    "top_10p=np.percentile(nbhd_counts, 90)\n",
    "print(top_10p)\n",
    "\n",
    "def nbhd_count(nbhd):\n",
    "        if len(df[df.neighborhood == nbhd])>top_10p:\n",
    "            return nbhd\n",
    "        else:\n",
    "            return 'Other'"
   ]
  },
  {
   "cell_type": "code",
   "execution_count": null,
   "id": "d68dbca0",
   "metadata": {},
   "outputs": [],
   "source": [
    "#apply the nbhd_count function to sort out the top 10% of popular neighborhoods in the nbhd column\n",
    "df['nbhd']=df['nbhd'].apply(nbhd_count)\n",
    "\n"
   ]
  },
  {
   "cell_type": "code",
   "execution_count": null,
   "id": "2e076a83",
   "metadata": {},
   "outputs": [],
   "source": [
    "#Use the dictionary to turn the nbhd column into numerical values\n",
    "dict = {'Augusta':1\n",
    "        ,'Eagle Creek':2\n",
    "        ,'East Warren':3\n",
    "        ,'Far Eastside':4\n",
    "        ,'Indianapolis':5\n",
    "        ,'Near Eastside':6\n",
    "        ,'Other':0\n",
    "        ,'Snacks Guion Creek':7\n",
    "        ,'South Emerson':8\n",
    "        ,'South Perry':9}\n",
    "\n",
    "df['nbhd_number']=df['nbhd']\n",
    "df.nbhd_number = df.nbhd_number.replace(dict)"
   ]
  },
  {
   "cell_type": "code",
   "execution_count": null,
   "id": "eae96f0b",
   "metadata": {},
   "outputs": [],
   "source": [
    "#Use the dictionary to turn the nbhd column into numerical values\n",
    "dict_2 = {'Augusta':1\n",
    "        ,'Eagle Creek':1\n",
    "        ,'East Warren':1\n",
    "        ,'Far Eastside':1\n",
    "        ,'Indianapolis':1\n",
    "        ,'Near Eastside':1\n",
    "        ,'Other':0\n",
    "        ,'Snacks Guion Creek':1\n",
    "        ,'South Emerson':1\n",
    "        ,'South Perry':1}\n",
    "\n",
    "df['nbhd_top']=df['nbhd']\n",
    "df.nbhd_top = df.nbhd_top.replace(dict_2)"
   ]
  },
  {
   "cell_type": "code",
   "execution_count": null,
   "id": "2665a7ad",
   "metadata": {},
   "outputs": [],
   "source": [
    "df.head()"
   ]
  },
  {
   "cell_type": "code",
   "execution_count": null,
   "id": "b1d87f00",
   "metadata": {
    "scrolled": true
   },
   "outputs": [],
   "source": [
    "# df.loc[df['deposit']<df['monthly_rent']]"
   ]
  },
  {
   "cell_type": "code",
   "execution_count": null,
   "id": "45ae7490",
   "metadata": {},
   "outputs": [],
   "source": [
    "#Define power set function to make it easier for choosing a model\n",
    "def get_subsets(fullset):\n",
    "  listrep = list(fullset)\n",
    "  n = len(listrep)\n",
    "  return [[listrep[k] for k in range(n) if i&1<<k] for i in range(2**n)]\n"
   ]
  },
  {
   "cell_type": "code",
   "execution_count": null,
   "id": "8aa553c4",
   "metadata": {},
   "outputs": [],
   "source": [
    "apt_train, apt_test = train_test_split(df.copy(),\n",
    "                                        shuffle = True,\n",
    "                                        random_state = 626,\n",
    "                                        test_size=.2)"
   ]
  },
  {
   "cell_type": "code",
   "execution_count": null,
   "id": "d4df50fb",
   "metadata": {},
   "outputs": [],
   "source": [
    "kfold = KFold(n_splits=10, shuffle=True, random_state=4530)"
   ]
  },
  {
   "cell_type": "code",
   "execution_count": null,
   "id": "6881fe47",
   "metadata": {},
   "outputs": [],
   "source": [
    "#Getting the list of models.\n",
    "col_list=['bedrooms'\n",
    "          ,'bathrooms'\n",
    "          ,'square_feet'\n",
    "          , 'walk_score'\n",
    "          , 'transit_score'\n",
    "          ,'bedbath'\n",
    "          ,'nbhd_top'\n",
    "         ,'sqft_bed'\n",
    "          ,'sqft_bath']\n",
    "\n",
    "set(col_list)\n",
    "models=get_subsets(col_list)\n",
    "\n",
    "#delete the empty set\n",
    "del models[0]\n",
    "\n",
    "#add in the baseline\n",
    "models.append('baseline')\n"
   ]
  },
  {
   "cell_type": "code",
   "execution_count": null,
   "id": "ea55e355",
   "metadata": {},
   "outputs": [],
   "source": [
    "cv_mses = np.zeros((10, len(models)))\n",
    "\n",
    "i = 0\n",
    "for train_index, test_index in kfold.split(apt_train):\n",
    "    apt_tt = apt_train.iloc[train_index]\n",
    "    apt_holdout = apt_train.iloc[test_index]\n",
    "    j = 0\n",
    "    for model in models:\n",
    "        if model == \"baseline\":\n",
    "            train_mean = apt_tt.monthly_rent.mean()\n",
    "            cv_mses[i,j] = mean_squared_error(apt_holdout.monthly_rent, train_mean*np.ones(len(apt_holdout)))\n",
    "        else:\n",
    "            reg = LinearRegression(copy_X = True)\n",
    "            reg.fit(apt_tt[model], apt_tt.monthly_rent)\n",
    "            cv_mses[i,j] = mean_squared_error(apt_holdout.monthly_rent, reg.predict(apt_holdout[model]))\n",
    "        j = j + 1\n",
    "    i = i + 1"
   ]
  },
  {
   "cell_type": "code",
   "execution_count": null,
   "id": "337b031f",
   "metadata": {},
   "outputs": [],
   "source": [
    "#check to see which model has the lowest mse\n",
    "models[np.argmin(np.mean(cv_mses, axis=0))]"
   ]
  },
  {
   "cell_type": "code",
   "execution_count": null,
   "id": "5a82a89a",
   "metadata": {},
   "outputs": [],
   "source": [
    "low_mse_model=models[np.argmin(np.mean(cv_mses, axis=0))]"
   ]
  },
  {
   "cell_type": "code",
   "execution_count": null,
   "id": "55c1b524",
   "metadata": {},
   "outputs": [],
   "source": [
    "reg.fit(apt_test[low_mse_model], apt_test.monthly_rent)\n",
    "y_pred=reg.predict(apt_test[low_mse_model])"
   ]
  },
  {
   "cell_type": "code",
   "execution_count": null,
   "id": "828f5848",
   "metadata": {},
   "outputs": [],
   "source": [
    "print('MAE:',metrics.mean_absolute_error(apt_test.monthly_rent, reg.predict(apt_test[low_mse_model])))\n",
    "\n",
    "print('MSE:',mean_squared_error(apt_test.monthly_rent, reg.predict(apt_test[low_mse_model])))\n",
    "print('RMSE:',np.sqrt(mean_squared_error(apt_test.monthly_rent, reg.predict(apt_test[low_mse_model]))))"
   ]
  },
  {
   "cell_type": "code",
   "execution_count": null,
   "id": "b4d94744",
   "metadata": {},
   "outputs": [],
   "source": [
    "baseline=apt_test.monthly_rent.mean()\n",
    "print('Baseline MSE: ',mean_squared_error(apt_test.monthly_rent, baseline*np.ones(len(apt_test))))\n",
    "print('Baseline RMSE:', np.sqrt(mean_squared_error(apt_test.monthly_rent, baseline*np.ones(len(apt_test)))))"
   ]
  },
  {
   "cell_type": "code",
   "execution_count": null,
   "id": "9f59b79f",
   "metadata": {},
   "outputs": [],
   "source": [
    "print(metrics.r2_score(apt_test.monthly_rent,y_pred))\n"
   ]
  },
  {
   "cell_type": "code",
   "execution_count": null,
   "id": "11534be1",
   "metadata": {},
   "outputs": [],
   "source": [
    "\n",
    "x=range(min(apt_test.monthly_rent.values),max(apt_test.monthly_rent.values))\n",
    "y=x\n",
    "plt.scatter(apt_test.monthly_rent,\n",
    "               y_pred,alpha=.5)\n",
    "plt.plot(x, y,color='red')\n",
    "plt.plot(x, baseline*np.ones(len(x)), color='green',label='Baseline model')\n",
    "plt.title('Actual Rent vs Predicted Rent with Lowest MSE Model', fontsize=20)\n",
    "plt.legend(loc=\"upper left\")\n",
    "plt.xlabel(\"Actual rent\", fontsize=16)\n",
    "plt.ylabel(\"Predicted rent\", fontsize=16)\n",
    "\n",
    "plt.show()"
   ]
  },
  {
   "cell_type": "code",
   "execution_count": null,
   "id": "3ba2ebfa",
   "metadata": {},
   "outputs": [],
   "source": [
    "model_var=mean_squared_error(apt_test.monthly_rent, reg.predict(apt_test[low_mse_model]))\n",
    "plt.figure(figsize=(8,6))\n",
    "\n",
    "plt.rc('axes', labelsize=20)\n",
    "plt.errorbar(apt_test.monthly_rent.values,y_pred, yerr=model_var**0.5, linestyle=\"\", marker=\".\")\n",
    "plt.plot(range(2500), range(2500), linestyle=\"--\", linewidth=\"2\", color=\"k\")\n",
    "plt.xlabel(\"Listed Rent [$]\")\n",
    "plt.ylabel(\"Predicted Rent [$]\")\n"
   ]
  },
  {
   "cell_type": "code",
   "execution_count": null,
   "id": "4327dadb",
   "metadata": {},
   "outputs": [],
   "source": [
    "plt.figure(figsize=(8,6))\n",
    "\n",
    "plt.scatter(apt_test.monthly_rent.values, (y_pred-apt_test.monthly_rent.values)*100/apt_test.monthly_rent.values)\n",
    "plt.xlabel(\"Listed Rent [$]\")\n",
    "plt.ylabel(\"Percent Error [Model-Listing]\")\n",
    "plt.axhline(0, c=\"k\")"
   ]
  },
  {
   "cell_type": "code",
   "execution_count": null,
   "id": "a7d4b3a2",
   "metadata": {},
   "outputs": [],
   "source": []
  }
 ],
 "metadata": {
  "kernelspec": {
   "display_name": "Python 3 (ipykernel)",
   "language": "python",
   "name": "python3"
  },
  "language_info": {
   "codemirror_mode": {
    "name": "ipython",
    "version": 3
   },
   "file_extension": ".py",
   "mimetype": "text/x-python",
   "name": "python",
   "nbconvert_exporter": "python",
   "pygments_lexer": "ipython3",
   "version": "3.10.4"
  }
 },
 "nbformat": 4,
 "nbformat_minor": 5
}
