{
 "cells": [
  {
   "cell_type": "markdown",
   "id": "fc463eff-a30d-46c9-b41e-183d08185c6c",
   "metadata": {},
   "source": [
    "# CAT Boost Model"
   ]
  },
  {
   "cell_type": "code",
   "execution_count": 2,
   "id": "c7bf82bf-a168-49e0-abeb-10f35ce9a7eb",
   "metadata": {},
   "outputs": [],
   "source": [
    "import pandas as pd\n",
    "import numpy as np\n",
    "import matplotlib.pyplot as plt\n",
    "import seaborn as sns\n",
    "from sklearn.model_selection import train_test_split\n",
    "from catboost import CatBoostRegressor\n",
    "\n",
    "sns.set_style(\"whitegrid\")"
   ]
  },
  {
   "cell_type": "markdown",
   "id": "6b996f19-e508-4b9e-9fdf-01801bec966d",
   "metadata": {},
   "source": [
    "The cleaned and prepared scraped dataset is stored in apartments_final.csv"
   ]
  },
  {
   "cell_type": "code",
   "execution_count": 3,
   "id": "eac0f929-9636-4916-b0b7-4982901f7360",
   "metadata": {},
   "outputs": [
    {
     "data": {
      "text/html": [
       "<div>\n",
       "<style scoped>\n",
       "    .dataframe tbody tr th:only-of-type {\n",
       "        vertical-align: middle;\n",
       "    }\n",
       "\n",
       "    .dataframe tbody tr th {\n",
       "        vertical-align: top;\n",
       "    }\n",
       "\n",
       "    .dataframe thead th {\n",
       "        text-align: right;\n",
       "    }\n",
       "</style>\n",
       "<table border=\"1\" class=\"dataframe\">\n",
       "  <thead>\n",
       "    <tr style=\"text-align: right;\">\n",
       "      <th></th>\n",
       "      <th>url</th>\n",
       "      <th>listing_id</th>\n",
       "      <th>zipcode</th>\n",
       "      <th>monthly_rent</th>\n",
       "      <th>bedrooms</th>\n",
       "      <th>bathrooms</th>\n",
       "      <th>square_feet</th>\n",
       "      <th>walk_score</th>\n",
       "      <th>transit_score</th>\n",
       "      <th>deposit</th>\n",
       "      <th>latitude</th>\n",
       "      <th>longitude</th>\n",
       "      <th>neighborhood</th>\n",
       "      <th>nbhd</th>\n",
       "    </tr>\n",
       "  </thead>\n",
       "  <tbody>\n",
       "    <tr>\n",
       "      <th>0</th>\n",
       "      <td>https://www.apartments.com/2372-beckwith-dr-in...</td>\n",
       "      <td>ze0jqwy</td>\n",
       "      <td>46218</td>\n",
       "      <td>751</td>\n",
       "      <td>2</td>\n",
       "      <td>1.0</td>\n",
       "      <td>679.0</td>\n",
       "      <td>25</td>\n",
       "      <td>33</td>\n",
       "      <td>705</td>\n",
       "      <td>39.80125</td>\n",
       "      <td>-86.12643</td>\n",
       "      <td>Martindale-Brightwood</td>\n",
       "      <td>Martindale-Brightwood</td>\n",
       "    </tr>\n",
       "    <tr>\n",
       "      <th>1</th>\n",
       "      <td>https://www.apartments.com/7491-n-shadeland-av...</td>\n",
       "      <td>s34dq64</td>\n",
       "      <td>46250</td>\n",
       "      <td>1795</td>\n",
       "      <td>3</td>\n",
       "      <td>2.0</td>\n",
       "      <td>2500.0</td>\n",
       "      <td>54</td>\n",
       "      <td>33</td>\n",
       "      <td>1795</td>\n",
       "      <td>39.89034</td>\n",
       "      <td>-86.04540</td>\n",
       "      <td>I-69 Fall Creek</td>\n",
       "      <td>I-69 Fall Creek</td>\n",
       "    </tr>\n",
       "    <tr>\n",
       "      <th>2</th>\n",
       "      <td>https://www.apartments.com/nice-3-bedroom-ranc...</td>\n",
       "      <td>n669z9m</td>\n",
       "      <td>46237</td>\n",
       "      <td>1095</td>\n",
       "      <td>3</td>\n",
       "      <td>1.0</td>\n",
       "      <td>1439.0</td>\n",
       "      <td>29</td>\n",
       "      <td>32</td>\n",
       "      <td>1095</td>\n",
       "      <td>39.72238</td>\n",
       "      <td>-86.12113</td>\n",
       "      <td>University Heights</td>\n",
       "      <td>University Heights</td>\n",
       "    </tr>\n",
       "    <tr>\n",
       "      <th>3</th>\n",
       "      <td>https://www.apartments.com/1102-n-oakland-ave-...</td>\n",
       "      <td>c4kr5zf</td>\n",
       "      <td>46201</td>\n",
       "      <td>1300</td>\n",
       "      <td>3</td>\n",
       "      <td>1.5</td>\n",
       "      <td>1500.0</td>\n",
       "      <td>67</td>\n",
       "      <td>38</td>\n",
       "      <td>800</td>\n",
       "      <td>39.78265</td>\n",
       "      <td>-86.11278</td>\n",
       "      <td>Near Eastside</td>\n",
       "      <td>Near Eastside</td>\n",
       "    </tr>\n",
       "    <tr>\n",
       "      <th>4</th>\n",
       "      <td>https://www.apartments.com/634-e-10th-st-india...</td>\n",
       "      <td>rl2dfp0</td>\n",
       "      <td>46202</td>\n",
       "      <td>1600</td>\n",
       "      <td>2</td>\n",
       "      <td>2.0</td>\n",
       "      <td>1400.0</td>\n",
       "      <td>74</td>\n",
       "      <td>53</td>\n",
       "      <td>1600</td>\n",
       "      <td>39.78089</td>\n",
       "      <td>-86.14610</td>\n",
       "      <td>Chatham Arch</td>\n",
       "      <td>Chatham Arch</td>\n",
       "    </tr>\n",
       "  </tbody>\n",
       "</table>\n",
       "</div>"
      ],
      "text/plain": [
       "                                                 url listing_id  zipcode  \\\n",
       "0  https://www.apartments.com/2372-beckwith-dr-in...    ze0jqwy    46218   \n",
       "1  https://www.apartments.com/7491-n-shadeland-av...    s34dq64    46250   \n",
       "2  https://www.apartments.com/nice-3-bedroom-ranc...    n669z9m    46237   \n",
       "3  https://www.apartments.com/1102-n-oakland-ave-...    c4kr5zf    46201   \n",
       "4  https://www.apartments.com/634-e-10th-st-india...    rl2dfp0    46202   \n",
       "\n",
       "   monthly_rent  bedrooms  bathrooms  square_feet  walk_score  transit_score  \\\n",
       "0           751         2        1.0        679.0          25             33   \n",
       "1          1795         3        2.0       2500.0          54             33   \n",
       "2          1095         3        1.0       1439.0          29             32   \n",
       "3          1300         3        1.5       1500.0          67             38   \n",
       "4          1600         2        2.0       1400.0          74             53   \n",
       "\n",
       "   deposit  latitude  longitude           neighborhood                   nbhd  \n",
       "0      705  39.80125  -86.12643  Martindale-Brightwood  Martindale-Brightwood  \n",
       "1     1795  39.89034  -86.04540        I-69 Fall Creek        I-69 Fall Creek  \n",
       "2     1095  39.72238  -86.12113     University Heights     University Heights  \n",
       "3      800  39.78265  -86.11278          Near Eastside          Near Eastside  \n",
       "4     1600  39.78089  -86.14610           Chatham Arch           Chatham Arch  "
      ]
     },
     "execution_count": 3,
     "metadata": {},
     "output_type": "execute_result"
    }
   ],
   "source": [
    "df = pd.read_csv(\"apartments_final.csv\")\n",
    "\n",
    "df.head()\n"
   ]
  },
  {
   "cell_type": "code",
   "execution_count": 14,
   "id": "3bd1dcd3-4e22-4703-b52c-8956edb78dac",
   "metadata": {},
   "outputs": [
    {
     "data": {
      "text/html": [
       "<div>\n",
       "<style scoped>\n",
       "    .dataframe tbody tr th:only-of-type {\n",
       "        vertical-align: middle;\n",
       "    }\n",
       "\n",
       "    .dataframe tbody tr th {\n",
       "        vertical-align: top;\n",
       "    }\n",
       "\n",
       "    .dataframe thead th {\n",
       "        text-align: right;\n",
       "    }\n",
       "</style>\n",
       "<table border=\"1\" class=\"dataframe\">\n",
       "  <thead>\n",
       "    <tr style=\"text-align: right;\">\n",
       "      <th></th>\n",
       "      <th>zipcode</th>\n",
       "      <th>monthly_rent</th>\n",
       "      <th>bedrooms</th>\n",
       "      <th>bathrooms</th>\n",
       "      <th>square_feet</th>\n",
       "      <th>walk_score</th>\n",
       "      <th>transit_score</th>\n",
       "      <th>deposit</th>\n",
       "      <th>latitude</th>\n",
       "      <th>longitude</th>\n",
       "      <th>bedXbath</th>\n",
       "      <th>feet_per_room</th>\n",
       "      <th>ft_bath</th>\n",
       "      <th>ft_bed</th>\n",
       "    </tr>\n",
       "  </thead>\n",
       "  <tbody>\n",
       "    <tr>\n",
       "      <th>count</th>\n",
       "      <td>871.000000</td>\n",
       "      <td>871.000000</td>\n",
       "      <td>871.000000</td>\n",
       "      <td>871.000000</td>\n",
       "      <td>871.000000</td>\n",
       "      <td>871.000000</td>\n",
       "      <td>871.000000</td>\n",
       "      <td>871.000000</td>\n",
       "      <td>871.000000</td>\n",
       "      <td>871.000000</td>\n",
       "      <td>871.000000</td>\n",
       "      <td>871.000000</td>\n",
       "      <td>871.000000</td>\n",
       "      <td>871.000000</td>\n",
       "    </tr>\n",
       "    <tr>\n",
       "      <th>mean</th>\n",
       "      <td>46222.282434</td>\n",
       "      <td>1283.833525</td>\n",
       "      <td>2.045924</td>\n",
       "      <td>1.564868</td>\n",
       "      <td>1130.678530</td>\n",
       "      <td>37.180253</td>\n",
       "      <td>25.227325</td>\n",
       "      <td>1207.065442</td>\n",
       "      <td>39.791344</td>\n",
       "      <td>-86.148214</td>\n",
       "      <td>3.674512</td>\n",
       "      <td>328.436842</td>\n",
       "      <td>1989.923651</td>\n",
       "      <td>2797.173364</td>\n",
       "    </tr>\n",
       "    <tr>\n",
       "      <th>std</th>\n",
       "      <td>31.355223</td>\n",
       "      <td>454.606361</td>\n",
       "      <td>1.121454</td>\n",
       "      <td>0.590232</td>\n",
       "      <td>627.812978</td>\n",
       "      <td>23.783910</td>\n",
       "      <td>17.084812</td>\n",
       "      <td>513.401254</td>\n",
       "      <td>0.079023</td>\n",
       "      <td>0.092329</td>\n",
       "      <td>2.883858</td>\n",
       "      <td>150.285942</td>\n",
       "      <td>1614.959517</td>\n",
       "      <td>2525.750317</td>\n",
       "    </tr>\n",
       "    <tr>\n",
       "      <th>min</th>\n",
       "      <td>46038.000000</td>\n",
       "      <td>450.000000</td>\n",
       "      <td>0.000000</td>\n",
       "      <td>1.000000</td>\n",
       "      <td>50.000000</td>\n",
       "      <td>0.000000</td>\n",
       "      <td>0.000000</td>\n",
       "      <td>100.000000</td>\n",
       "      <td>39.626880</td>\n",
       "      <td>-86.341270</td>\n",
       "      <td>0.000000</td>\n",
       "      <td>50.000000</td>\n",
       "      <td>50.000000</td>\n",
       "      <td>0.000000</td>\n",
       "    </tr>\n",
       "    <tr>\n",
       "      <th>25%</th>\n",
       "      <td>46211.000000</td>\n",
       "      <td>909.000000</td>\n",
       "      <td>1.000000</td>\n",
       "      <td>1.000000</td>\n",
       "      <td>700.000000</td>\n",
       "      <td>16.000000</td>\n",
       "      <td>14.000000</td>\n",
       "      <td>850.000000</td>\n",
       "      <td>39.748400</td>\n",
       "      <td>-86.214015</td>\n",
       "      <td>1.000000</td>\n",
       "      <td>257.142857</td>\n",
       "      <td>703.000000</td>\n",
       "      <td>705.000000</td>\n",
       "    </tr>\n",
       "    <tr>\n",
       "      <th>50%</th>\n",
       "      <td>46224.000000</td>\n",
       "      <td>1202.000000</td>\n",
       "      <td>2.000000</td>\n",
       "      <td>1.500000</td>\n",
       "      <td>1025.000000</td>\n",
       "      <td>37.000000</td>\n",
       "      <td>29.000000</td>\n",
       "      <td>1150.000000</td>\n",
       "      <td>39.795340</td>\n",
       "      <td>-86.143990</td>\n",
       "      <td>3.000000</td>\n",
       "      <td>300.285714</td>\n",
       "      <td>1600.000000</td>\n",
       "      <td>2184.000000</td>\n",
       "    </tr>\n",
       "    <tr>\n",
       "      <th>75%</th>\n",
       "      <td>46237.000000</td>\n",
       "      <td>1634.500000</td>\n",
       "      <td>3.000000</td>\n",
       "      <td>2.000000</td>\n",
       "      <td>1390.000000</td>\n",
       "      <td>54.000000</td>\n",
       "      <td>35.000000</td>\n",
       "      <td>1597.000000</td>\n",
       "      <td>39.849420</td>\n",
       "      <td>-86.084705</td>\n",
       "      <td>6.000000</td>\n",
       "      <td>362.090909</td>\n",
       "      <td>2687.000000</td>\n",
       "      <td>4108.500000</td>\n",
       "    </tr>\n",
       "    <tr>\n",
       "      <th>max</th>\n",
       "      <td>46298.000000</td>\n",
       "      <td>2500.000000</td>\n",
       "      <td>5.000000</td>\n",
       "      <td>4.000000</td>\n",
       "      <td>9991.000000</td>\n",
       "      <td>99.000000</td>\n",
       "      <td>68.000000</td>\n",
       "      <td>2500.000000</td>\n",
       "      <td>39.946250</td>\n",
       "      <td>-85.949920</td>\n",
       "      <td>20.000000</td>\n",
       "      <td>3330.333333</td>\n",
       "      <td>10800.000000</td>\n",
       "      <td>19982.000000</td>\n",
       "    </tr>\n",
       "  </tbody>\n",
       "</table>\n",
       "</div>"
      ],
      "text/plain": [
       "            zipcode  monthly_rent    bedrooms   bathrooms  square_feet  \\\n",
       "count    871.000000    871.000000  871.000000  871.000000   871.000000   \n",
       "mean   46222.282434   1283.833525    2.045924    1.564868  1130.678530   \n",
       "std       31.355223    454.606361    1.121454    0.590232   627.812978   \n",
       "min    46038.000000    450.000000    0.000000    1.000000    50.000000   \n",
       "25%    46211.000000    909.000000    1.000000    1.000000   700.000000   \n",
       "50%    46224.000000   1202.000000    2.000000    1.500000  1025.000000   \n",
       "75%    46237.000000   1634.500000    3.000000    2.000000  1390.000000   \n",
       "max    46298.000000   2500.000000    5.000000    4.000000  9991.000000   \n",
       "\n",
       "       walk_score  transit_score      deposit    latitude   longitude  \\\n",
       "count  871.000000     871.000000   871.000000  871.000000  871.000000   \n",
       "mean    37.180253      25.227325  1207.065442   39.791344  -86.148214   \n",
       "std     23.783910      17.084812   513.401254    0.079023    0.092329   \n",
       "min      0.000000       0.000000   100.000000   39.626880  -86.341270   \n",
       "25%     16.000000      14.000000   850.000000   39.748400  -86.214015   \n",
       "50%     37.000000      29.000000  1150.000000   39.795340  -86.143990   \n",
       "75%     54.000000      35.000000  1597.000000   39.849420  -86.084705   \n",
       "max     99.000000      68.000000  2500.000000   39.946250  -85.949920   \n",
       "\n",
       "         bedXbath  feet_per_room       ft_bath        ft_bed  \n",
       "count  871.000000     871.000000    871.000000    871.000000  \n",
       "mean     3.674512     328.436842   1989.923651   2797.173364  \n",
       "std      2.883858     150.285942   1614.959517   2525.750317  \n",
       "min      0.000000      50.000000     50.000000      0.000000  \n",
       "25%      1.000000     257.142857    703.000000    705.000000  \n",
       "50%      3.000000     300.285714   1600.000000   2184.000000  \n",
       "75%      6.000000     362.090909   2687.000000   4108.500000  \n",
       "max     20.000000    3330.333333  10800.000000  19982.000000  "
      ]
     },
     "execution_count": 14,
     "metadata": {},
     "output_type": "execute_result"
    }
   ],
   "source": [
    "df.describe()"
   ]
  },
  {
   "cell_type": "markdown",
   "id": "1e22482d-db24-4674-9073-5af86c9b25c1",
   "metadata": {},
   "source": [
    "Group neighborhoods with fewer than 20 listings into an \"Other\" category"
   ]
  },
  {
   "cell_type": "code",
   "execution_count": 15,
   "id": "8f945e77-6dec-4ec3-a062-f0f3b947a1fe",
   "metadata": {},
   "outputs": [],
   "source": [
    "cutoff = 20\n",
    "counts = df.nbhd.value_counts(dropna=False)\n",
    "def change_nbhd(nbhd):\n",
    "    if counts[nbhd] < cutoff:\n",
    "        return \"Other\"\n",
    "    return nbhd\n",
    "df[\"clean_nbhd\"] = df.nbhd.apply(change_nbhd)"
   ]
  },
  {
   "cell_type": "markdown",
   "id": "5e6a5f7d-a305-4e7c-b465-de828521cf29",
   "metadata": {},
   "source": [
    "Check the different data types for removing unneeded columns and flagging the categorical variables."
   ]
  },
  {
   "cell_type": "code",
   "execution_count": 17,
   "id": "72ef37d8-459a-4453-a73c-65d694d9ae0e",
   "metadata": {},
   "outputs": [
    {
     "data": {
      "text/plain": [
       "url               object\n",
       "listing_id        object\n",
       "zipcode            int64\n",
       "monthly_rent       int64\n",
       "bedrooms           int64\n",
       "bathrooms        float64\n",
       "square_feet      float64\n",
       "walk_score         int64\n",
       "transit_score      int64\n",
       "deposit            int64\n",
       "latitude         float64\n",
       "longitude        float64\n",
       "neighborhood      object\n",
       "nbhd              object\n",
       "clean_nbhd        object\n",
       "bedXbath         float64\n",
       "feet_per_room    float64\n",
       "ft_bath          float64\n",
       "ft_bed           float64\n",
       "dtype: object"
      ]
     },
     "execution_count": 17,
     "metadata": {},
     "output_type": "execute_result"
    }
   ],
   "source": [
    "df.dtypes"
   ]
  },
  {
   "cell_type": "markdown",
   "id": "42640a94-3e53-45b0-a9ac-b6757ab41543",
   "metadata": {},
   "source": [
    "Here we add a few extra features, such as the average square footage per room and the number of beds and bathrooms together"
   ]
  },
  {
   "cell_type": "code",
   "execution_count": 19,
   "id": "bebe54b1-9bc7-4e29-a74d-6ee9df6c7f0d",
   "metadata": {},
   "outputs": [],
   "source": [
    "df[\"bed+bath\"] = df.bedrooms + df.bathrooms\n",
    "df[\"feet_per_room\"] = df.square_feet/(df.bedrooms+df.bathrooms)"
   ]
  },
  {
   "cell_type": "markdown",
   "id": "ee26ee7f-c657-42d8-9f07-bb2378b0c443",
   "metadata": {},
   "source": [
    "We iterate our fitting with bootstrapping to attempt to minimize the impact of outliers in the data. We fit 50 bootstrapped apartment samples.\n",
    "\n",
    "We also drop from the dataframe all columns which we do not wish to include in the fitting. Extra features can be included by commending them out of drop_cols."
   ]
  },
  {
   "cell_type": "code",
   "execution_count": 22,
   "id": "7ef284db-7e35-42d0-98b1-653a3f461caf",
   "metadata": {},
   "outputs": [
    {
     "name": "stdout",
     "output_type": "stream",
     "text": [
      "Training on 5 bootstrapped samples. Please wait!\n",
      "0:\tlearn: 417.5070054\ttest: 394.1952004\tbest: 394.1952004 (0)\ttotal: 6.3ms\tremaining: 309ms\n",
      "1:\tlearn: 380.3415705\ttest: 357.6829912\tbest: 357.6829912 (1)\ttotal: 14.3ms\tremaining: 342ms\n",
      "2:\tlearn: 354.5545710\ttest: 328.9267756\tbest: 328.9267756 (2)\ttotal: 19.8ms\tremaining: 310ms\n",
      "3:\tlearn: 333.9521956\ttest: 306.8882621\tbest: 306.8882621 (3)\ttotal: 28.5ms\tremaining: 328ms\n",
      "4:\tlearn: 321.9163296\ttest: 295.3968544\tbest: 295.3968544 (4)\ttotal: 33.7ms\tremaining: 304ms\n",
      "5:\tlearn: 312.6333728\ttest: 287.9259986\tbest: 287.9259986 (5)\ttotal: 42.2ms\tremaining: 309ms\n",
      "6:\tlearn: 306.1208789\ttest: 281.9526093\tbest: 281.9526093 (6)\ttotal: 50ms\tremaining: 307ms\n",
      "7:\tlearn: 300.4625687\ttest: 276.7134523\tbest: 276.7134523 (7)\ttotal: 58.5ms\tremaining: 307ms\n",
      "8:\tlearn: 297.1571260\ttest: 273.4289382\tbest: 273.4289382 (8)\ttotal: 65.9ms\tremaining: 300ms\n",
      "9:\tlearn: 292.1101081\ttest: 269.2549283\tbest: 269.2549283 (9)\ttotal: 75.4ms\tremaining: 301ms\n",
      "10:\tlearn: 289.1580890\ttest: 266.8642508\tbest: 266.8642508 (10)\ttotal: 83.4ms\tremaining: 296ms\n",
      "11:\tlearn: 287.3423072\ttest: 265.5466996\tbest: 265.5466996 (11)\ttotal: 92ms\tremaining: 291ms\n",
      "12:\tlearn: 283.8562360\ttest: 263.5001805\tbest: 263.5001805 (12)\ttotal: 100ms\tremaining: 285ms\n",
      "13:\tlearn: 282.6424756\ttest: 262.3783744\tbest: 262.3783744 (13)\ttotal: 109ms\tremaining: 279ms\n",
      "14:\tlearn: 279.9157149\ttest: 259.9139079\tbest: 259.9139079 (14)\ttotal: 117ms\tremaining: 272ms\n",
      "15:\tlearn: 278.6689629\ttest: 258.9238737\tbest: 258.9238737 (15)\ttotal: 125ms\tremaining: 266ms\n",
      "16:\tlearn: 276.1758300\ttest: 257.1355156\tbest: 257.1355156 (16)\ttotal: 133ms\tremaining: 259ms\n",
      "17:\tlearn: 272.4994575\ttest: 255.2733464\tbest: 255.2733464 (17)\ttotal: 142ms\tremaining: 253ms\n",
      "18:\tlearn: 270.7315879\ttest: 253.5142846\tbest: 253.5142846 (18)\ttotal: 150ms\tremaining: 245ms\n",
      "19:\tlearn: 268.8162448\ttest: 253.4341202\tbest: 253.4341202 (19)\ttotal: 159ms\tremaining: 238ms\n",
      "20:\tlearn: 266.7902976\ttest: 252.8721903\tbest: 252.8721903 (20)\ttotal: 167ms\tremaining: 231ms\n",
      "21:\tlearn: 265.2897699\ttest: 252.1978323\tbest: 252.1978323 (21)\ttotal: 175ms\tremaining: 223ms\n",
      "22:\tlearn: 264.3835094\ttest: 251.8638439\tbest: 251.8638439 (22)\ttotal: 184ms\tremaining: 216ms\n",
      "23:\tlearn: 263.7937030\ttest: 252.0170015\tbest: 251.8638439 (22)\ttotal: 193ms\tremaining: 209ms\n",
      "24:\tlearn: 261.8829694\ttest: 250.1064376\tbest: 250.1064376 (24)\ttotal: 201ms\tremaining: 201ms\n",
      "25:\tlearn: 259.7808031\ttest: 247.4888261\tbest: 247.4888261 (25)\ttotal: 210ms\tremaining: 194ms\n",
      "26:\tlearn: 258.8307756\ttest: 245.3972613\tbest: 245.3972613 (26)\ttotal: 218ms\tremaining: 186ms\n",
      "27:\tlearn: 257.3286575\ttest: 244.1373194\tbest: 244.1373194 (27)\ttotal: 226ms\tremaining: 178ms\n",
      "28:\tlearn: 256.4468655\ttest: 243.0488289\tbest: 243.0488289 (28)\ttotal: 234ms\tremaining: 170ms\n",
      "29:\tlearn: 255.1481731\ttest: 241.7820540\tbest: 241.7820540 (29)\ttotal: 254ms\tremaining: 169ms\n",
      "30:\tlearn: 254.3756575\ttest: 241.5937484\tbest: 241.5937484 (30)\ttotal: 262ms\tremaining: 160ms\n",
      "31:\tlearn: 251.0559761\ttest: 238.7337139\tbest: 238.7337139 (31)\ttotal: 270ms\tremaining: 152ms\n",
      "32:\tlearn: 248.4390878\ttest: 236.6321407\tbest: 236.6321407 (32)\ttotal: 277ms\tremaining: 143ms\n",
      "33:\tlearn: 247.5353530\ttest: 235.9246657\tbest: 235.9246657 (33)\ttotal: 286ms\tremaining: 134ms\n",
      "34:\tlearn: 245.9932681\ttest: 234.7767542\tbest: 234.7767542 (34)\ttotal: 293ms\tremaining: 126ms\n",
      "35:\tlearn: 245.5989475\ttest: 234.1522385\tbest: 234.1522385 (35)\ttotal: 301ms\tremaining: 117ms\n",
      "36:\tlearn: 243.9502043\ttest: 232.5212555\tbest: 232.5212555 (36)\ttotal: 309ms\tremaining: 109ms\n",
      "37:\tlearn: 241.1221511\ttest: 230.7529531\tbest: 230.7529531 (37)\ttotal: 317ms\tremaining: 100ms\n",
      "38:\tlearn: 240.5062719\ttest: 229.7749131\tbest: 229.7749131 (38)\ttotal: 326ms\tremaining: 91.9ms\n",
      "39:\tlearn: 239.4936001\ttest: 228.4240900\tbest: 228.4240900 (39)\ttotal: 351ms\tremaining: 87.6ms\n",
      "40:\tlearn: 238.9159420\ttest: 227.8462707\tbest: 227.8462707 (40)\ttotal: 358ms\tremaining: 78.6ms\n",
      "41:\tlearn: 236.9946258\ttest: 225.7922156\tbest: 225.7922156 (41)\ttotal: 366ms\tremaining: 69.8ms\n",
      "42:\tlearn: 236.1397136\ttest: 224.9361751\tbest: 224.9361751 (42)\ttotal: 375ms\tremaining: 61ms\n",
      "43:\tlearn: 233.5014033\ttest: 222.8466497\tbest: 222.8466497 (43)\ttotal: 384ms\tremaining: 52.4ms\n",
      "44:\tlearn: 232.0751277\ttest: 221.2962268\tbest: 221.2962268 (44)\ttotal: 393ms\tremaining: 43.6ms\n",
      "45:\tlearn: 231.0877298\ttest: 219.9273415\tbest: 219.9273415 (45)\ttotal: 402ms\tremaining: 34.9ms\n",
      "46:\tlearn: 228.6808487\ttest: 217.8202442\tbest: 217.8202442 (46)\ttotal: 410ms\tremaining: 26.2ms\n",
      "47:\tlearn: 227.3782230\ttest: 216.6039575\tbest: 216.6039575 (47)\ttotal: 420ms\tremaining: 17.5ms\n",
      "48:\tlearn: 224.7484938\ttest: 215.2808040\tbest: 215.2808040 (48)\ttotal: 428ms\tremaining: 8.73ms\n",
      "49:\tlearn: 223.5921086\ttest: 214.5870900\tbest: 214.5870900 (49)\ttotal: 436ms\tremaining: 0us\n",
      "\n",
      "bestTest = 214.58709\n",
      "bestIteration = 49\n",
      "\n"
     ]
    },
    {
     "data": {
      "text/plain": [
       "<catboost.core.CatBoostRegressor at 0x1e584c1ad60>"
      ]
     },
     "execution_count": 22,
     "metadata": {},
     "output_type": "execute_result"
    }
   ],
   "source": [
    "best_score = 0\n",
    "best_model = None\n",
    "\n",
    "N=50\n",
    "print(f\"Training on {N} bootstrapped samples. Please wait!\")\n",
    "for _ in range(N):\n",
    "    X = df.sample(len(X), replace=True)\n",
    "    y = X['monthly_rent'].copy()\n",
    "    drop_cols = [\n",
    "             \"monthly_rent\",\n",
    "             \"deposit\",\n",
    "             \"listing_id\",\n",
    "             #\"latitude\",\n",
    "             #\"longitude\",\n",
    "             \"url\",\n",
    "             \"neighborhood\",\n",
    "             #\"zipcode\",\n",
    "             #\"nbhd\",\n",
    "             \"transit_score\",\n",
    "             \"walk_score\",\n",
    "             \"nbhd\",\n",
    "            #\"clean_nbhd\"\n",
    "              ]\n",
    "    for col in drop_cols:\n",
    "        X.drop(col, axis=1, inplace=True)\n",
    "        X_train, X_test, y_train, y_test = train_test_split(X, y, train_size=0.8, random_state=3)\n",
    "\n",
    "    model = CatBoostRegressor(iterations=50, depth=3, learning_rate=0.25, loss_function='RMSE')\n",
    "    model.fit(X_train, y_train,\n",
    "              cat_features=[\"clean_nbhd\"],\n",
    "              eval_set=(X_test, y_test), verbose=False, plot=False)\n",
    "    if model.score(X_test, y_test) > best_score:\n",
    "        best_score = model.score(X_test, y_test)\n",
    "        best_model = model.copy()\n",
    "\n",
    "best_model.fit(X_train, y_train,\n",
    "              cat_features=[\"clean_nbhd\"],\n",
    "              eval_set=(X_test, y_test),plot=False)"
   ]
  },
  {
   "cell_type": "code",
   "execution_count": 28,
   "id": "07e8a9f1-66ca-4736-a476-34a6bff9703a",
   "metadata": {},
   "outputs": [
    {
     "data": {
      "text/plain": [
       "0.7675857053951167"
      ]
     },
     "execution_count": 28,
     "metadata": {},
     "output_type": "execute_result"
    }
   ],
   "source": [
    "model.score(X_test, y_test)"
   ]
  },
  {
   "cell_type": "code",
   "execution_count": null,
   "id": "189ddb4e-b901-4bfe-a69c-a697639ee559",
   "metadata": {},
   "outputs": [],
   "source": []
  },
  {
   "cell_type": "code",
   "execution_count": 24,
   "id": "d5ca5207-efe4-4164-bfd8-b84498a31341",
   "metadata": {},
   "outputs": [],
   "source": [
    "baseline = y.mean()"
   ]
  },
  {
   "cell_type": "code",
   "execution_count": 25,
   "id": "864cae6a-6c5a-41af-ac3f-eda72d16c78d",
   "metadata": {},
   "outputs": [
    {
     "name": "stdout",
     "output_type": "stream",
     "text": [
      "Baseline RMSE: 198254.7135655317\n",
      "Baseline rent error: 445.25803032121917\n"
     ]
    }
   ],
   "source": [
    "baseline_var = ((y_test-baseline)**2).sum()/len(y_test)\n",
    "print(f\"Baseline RMSE: {baseline_var}\")\n",
    "print(f\"Baseline rent error: {baseline_var**0.5}\")"
   ]
  },
  {
   "cell_type": "code",
   "execution_count": 26,
   "id": "5d645119-a66c-4999-aac6-9ac2c4f2a381",
   "metadata": {},
   "outputs": [
    {
     "name": "stdout",
     "output_type": "stream",
     "text": [
      "CATboost MSE: 46047.619187236254\n",
      "CATBoost rent error: 214.58708998268338\n"
     ]
    }
   ],
   "source": [
    "predicted = model.predict(X_test)\n",
    "model_var = ((y_test-predicted)**2).sum()/len(y_test)\n",
    "print(f\"CATboost MSE: {model_var}\")\n",
    "print(f\"CATBoost rent error: {model_var**0.5}\")"
   ]
  },
  {
   "cell_type": "code",
   "execution_count": 27,
   "id": "dda4f54b-5b9f-466c-8e4d-8960815dac41",
   "metadata": {},
   "outputs": [
    {
     "data": {
      "text/plain": [
       "<matplotlib.lines.Line2D at 0x1e585243760>"
      ]
     },
     "execution_count": 27,
     "metadata": {},
     "output_type": "execute_result"
    },
    {
     "data": {
      "image/png": "[encoded data removed]",
      "text/plain": [
       "<Figure size 720x1440 with 2 Axes>"
      ]
     },
     "metadata": {},
     "output_type": "display_data"
    }
   ],
   "source": [
    "fig, axs = plt.subplots(2,1, figsize=(10,20))\n",
    "plt.rc('axes', labelsize=20)\n",
    "axs[0].errorbar(y_test, predicted, yerr=model_var**0.5, linestyle=\"\", marker=\".\")\n",
    "axs[0].plot(range(2500), range(2500), linestyle=\"--\", linewidth=\"2\", color=\"k\")\n",
    "axs[0].set_xlabel(\"Listed Rent [$]\")\n",
    "axs[0].set_ylabel(\"Predicted Rent [$]\")\n",
    "\n",
    "axs[1].scatter(y_test, (predicted-y_test)*100/y_test)\n",
    "axs[1].set_xlabel(\"Listed Rent [$]\")\n",
    "axs[1].set_ylabel(\"Percent Error [Model-Listing]\")\n",
    "axs[1].axhline(0, c=\"k\")\n"
   ]
  },
  {
   "cell_type": "code",
   "execution_count": null,
   "id": "6d5153eb-b8fc-4b7d-bf9d-0eecdb071108",
   "metadata": {},
   "outputs": [],
   "source": []
  },
  {
   "cell_type": "code",
   "execution_count": 31,
   "id": "29a18dd8-dadf-4beb-a939-fdc888d85719",
   "metadata": {},
   "outputs": [
    {
     "data": {
      "text/plain": [
       "13.27552948492316"
      ]
     },
     "execution_count": 31,
     "metadata": {},
     "output_type": "execute_result"
    }
   ],
   "source": [
    "np.average(abs(predicted-y_test)*100/y_test)"
   ]
  },
  {
   "cell_type": "code",
   "execution_count": null,
   "id": "b610408d-8740-4e5f-a6e0-3eee0c06d353",
   "metadata": {},
   "outputs": [],
   "source": []
  }
 ],
 "metadata": {
  "kernelspec": {
   "display_name": "Python 3 (ipykernel)",
   "language": "python",
   "name": "python3"
  },
  "language_info": {
   "codemirror_mode": {
    "name": "ipython",
    "version": 3
   },
   "file_extension": ".py",
   "mimetype": "text/x-python",
   "name": "python",
   "nbconvert_exporter": "python",
   "pygments_lexer": "ipython3",
   "version": "3.9.7"
  }
 },
 "nbformat": 4,
 "nbformat_minor": 5
}
