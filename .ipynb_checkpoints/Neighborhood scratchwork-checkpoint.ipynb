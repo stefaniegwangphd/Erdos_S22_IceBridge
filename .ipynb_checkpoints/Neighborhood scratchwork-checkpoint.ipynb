{
 "cells": [
  {
   "cell_type": "code",
   "execution_count": 1,
   "id": "dde36304",
   "metadata": {},
   "outputs": [],
   "source": [
    "import pandas as pd\n",
    "import numpy as np\n",
    "\n",
    "import matplotlib\n",
    "import matplotlib.pyplot as plt\n",
    "import seaborn as sns\n",
    "\n",
    "\n",
    "sns.set_style(\"whitegrid\")\n",
    "pd.set_option('display.float_format', lambda x: '%.3f' % x)"
   ]
  },
  {
   "cell_type": "code",
   "execution_count": 2,
   "id": "04d44ad2",
   "metadata": {},
   "outputs": [],
   "source": [
    "df = pd.read_csv('apartment_dotcom.csv')\n",
    "df1=pd.read_csv('apartments_final.csv')"
   ]
  },
  {
   "cell_type": "code",
   "execution_count": 3,
   "id": "4bf6bc96",
   "metadata": {},
   "outputs": [
    {
     "data": {
      "text/plain": [
       "Index(['Unnamed: 0', 'url', 'listingid', 'ZIP', 'Monthly Rent', 'Bedrooms',\n",
       "       'Bathrooms', 'Square Feet', 'walkScore', 'transitScore', 'Deposit',\n",
       "       'latitude', 'longitude', 'Pet', 'neighborhood'],\n",
       "      dtype='object')"
      ]
     },
     "execution_count": 3,
     "metadata": {},
     "output_type": "execute_result"
    }
   ],
   "source": [
    "df.columns"
   ]
  },
  {
   "cell_type": "code",
   "execution_count": 4,
   "id": "ecde020c",
   "metadata": {},
   "outputs": [
    {
     "data": {
      "text/html": [
       "<div>\n",
       "<style scoped>\n",
       "    .dataframe tbody tr th:only-of-type {\n",
       "        vertical-align: middle;\n",
       "    }\n",
       "\n",
       "    .dataframe tbody tr th {\n",
       "        vertical-align: top;\n",
       "    }\n",
       "\n",
       "    .dataframe thead th {\n",
       "        text-align: right;\n",
       "    }\n",
       "</style>\n",
       "<table border=\"1\" class=\"dataframe\">\n",
       "  <thead>\n",
       "    <tr style=\"text-align: right;\">\n",
       "      <th></th>\n",
       "      <th>Unnamed: 0</th>\n",
       "      <th>url</th>\n",
       "      <th>listingid</th>\n",
       "      <th>ZIP</th>\n",
       "      <th>Monthly Rent</th>\n",
       "      <th>Bedrooms</th>\n",
       "      <th>Bathrooms</th>\n",
       "      <th>Square Feet</th>\n",
       "      <th>walkScore</th>\n",
       "      <th>transitScore</th>\n",
       "      <th>Deposit</th>\n",
       "      <th>latitude</th>\n",
       "      <th>longitude</th>\n",
       "      <th>Pet</th>\n",
       "      <th>neighborhood</th>\n",
       "    </tr>\n",
       "  </thead>\n",
       "  <tbody>\n",
       "    <tr>\n",
       "      <th>82</th>\n",
       "      <td>82</td>\n",
       "      <td>https://www.apartments.com/118-n-state-ave-ind...</td>\n",
       "      <td>kqgrljc</td>\n",
       "      <td>46201.000</td>\n",
       "      <td>$1,100</td>\n",
       "      <td>2 bd</td>\n",
       "      <td>1 ba</td>\n",
       "      <td>NaN</td>\n",
       "      <td>56</td>\n",
       "      <td>40</td>\n",
       "      <td>$1,100 deposit</td>\n",
       "      <td>39.769</td>\n",
       "      <td>-86.131</td>\n",
       "      <td>NaN</td>\n",
       "      <td>Holy Cross</td>\n",
       "    </tr>\n",
       "  </tbody>\n",
       "</table>\n",
       "</div>"
      ],
      "text/plain": [
       "    Unnamed: 0                                                url listingid  \\\n",
       "82          82  https://www.apartments.com/118-n-state-ave-ind...   kqgrljc   \n",
       "\n",
       "         ZIP Monthly Rent Bedrooms Bathrooms Square Feet walkScore  \\\n",
       "82 46201.000       $1,100     2 bd      1 ba         NaN        56   \n",
       "\n",
       "   transitScore         Deposit  latitude  longitude  Pet neighborhood  \n",
       "82           40  $1,100 deposit    39.769    -86.131  NaN   Holy Cross  "
      ]
     },
     "execution_count": 4,
     "metadata": {},
     "output_type": "execute_result"
    }
   ],
   "source": [
    "df.loc[df['listingid']=='kqgrljc']"
   ]
  },
  {
   "cell_type": "code",
   "execution_count": 5,
   "id": "6394ca3a",
   "metadata": {},
   "outputs": [],
   "source": [
    "df1_null_sqft=df1[df1['square_feet'].isna()]"
   ]
  },
  {
   "cell_type": "code",
   "execution_count": 6,
   "id": "c897e2fa",
   "metadata": {},
   "outputs": [],
   "source": [
    "df1=df1.drop(df1_null_sqft.index).copy()"
   ]
  },
  {
   "cell_type": "code",
   "execution_count": 7,
   "id": "59566925",
   "metadata": {},
   "outputs": [
    {
     "data": {
      "text/plain": [
       "False"
      ]
     },
     "execution_count": 7,
     "metadata": {},
     "output_type": "execute_result"
    }
   ],
   "source": [
    "df1.isnull().values.any()\n"
   ]
  },
  {
   "cell_type": "code",
   "execution_count": 8,
   "id": "60f11a16",
   "metadata": {},
   "outputs": [],
   "source": [
    "df1.to_csv (r'apartments_final.csv', index = False, header=True)"
   ]
  },
  {
   "cell_type": "code",
   "execution_count": 15,
   "id": "2af3aca9",
   "metadata": {},
   "outputs": [
    {
     "name": "stdout",
     "output_type": "stream",
     "text": [
      "16 Tech : 1\n",
      "Allisonville : 10\n",
      "Ameriplex : 2\n",
      "Arlington Woods : 8\n",
      "Augusta : 23\n",
      "Avon : 10\n",
      "Bates-Hendricks : 3\n",
      "Bayhead Village : 2\n",
      "Beech Grove : 3\n",
      "Brendonwood : 4\n",
      "Broad Ripple : 15\n",
      "Butler-Tarkington : 6\n",
      "Camby : 6\n",
      "Canterbury-Chatard : 2\n",
      "Carmel : 4\n",
      "Castleton : 15\n",
      "Chapel Hill Ben Davis : 17\n",
      "Chatham Arch : 4\n",
      "Circle City : 17\n",
      "College Park : 6\n",
      "Crooked Creek : 10\n",
      "Crown Hill : 5\n",
      "Cumberland : 3\n",
      "Dakota Ridge : 3\n",
      "Delaware Trails : 6\n",
      "Devington : 7\n",
      "Devonshire : 6\n",
      "Downtown Indianapolis : 9\n",
      "Eagle Creek : 24\n",
      "Eagledale : 17\n",
      "East Gate : 6\n",
      "East Warren : 28\n",
      "Eastside : 6\n",
      "Edgewood : 6\n",
      "Fairgrounds : 8\n",
      "Fall Creek Place : 3\n",
      "Far Eastside : 30\n",
      "Fishers : 4\n",
      "Five Points : 7\n",
      "Fletcher Place : 5\n",
      "Forest Manor : 3\n",
      "Fountain Square : 6\n",
      "Galludet : 5\n",
      "Garden City : 13\n",
      "Garfield Park : 5\n",
      "Geist : 2\n",
      "Glendale : 4\n",
      "Glenns Valley : 2\n",
      "Hawthorne : 4\n",
      "Herron-Morton Place : 2\n",
      "Hill Valley : 9\n",
      "Holy Cross : 1\n",
      "I-69 Fall Creek : 12\n",
      "Indianapolis : 80\n",
      "International Market Place : 3\n",
      "Irvington : 12\n",
      "Key Meadows : 11\n",
      "Keystone : 11\n",
      "Linden Wood : 8\n",
      "Mapleton Fall Creek : 12\n",
      "Marian Cold Springs : 3\n",
      "Mars Hill : 3\n",
      "Martindale-Brightwood : 16\n",
      "Meridian Kessler : 5\n",
      "Millersville : 9\n",
      "Near Eastside : 31\n",
      "Near NW Riverside : 2\n",
      "Near Northside : 11\n",
      "Near Southeast : 13\n",
      "Near Southside : 3\n",
      "Near Westside Indianapolis : 9\n",
      "Nora Far Northside : 10\n",
      "North Central : 6\n",
      "North Meridian : 3\n",
      "North Perry : 6\n",
      "Northwest High School : 7\n",
      "Ravenswood : 1\n",
      "Raymond Park : 7\n",
      "Six Points : 3\n",
      "Snacks Guion Creek : 23\n",
      "South Emerson : 20\n",
      "South Franklin : 14\n",
      "South Perry : 30\n",
      "Southdale : 3\n",
      "Southeast Warren : 1\n",
      "Southern Dunes : 6\n",
      "Southside Indianapolis : 8\n",
      "Speedway : 6\n",
      "St Joseph : 1\n",
      "St Vincent Greenbriar : 13\n",
      "Sunshine Gardens : 1\n",
      "The Canal : 10\n",
      "University Heights : 12\n",
      "Valley Mills : 15\n",
      "Warren Park : 2\n",
      "West Indianapolis : 1\n",
      "West Newton : 1\n",
      "Wynnedale Spring Hill : 6\n"
     ]
    }
   ],
   "source": [
    "for neighbor in np.unique(df1.neighborhood):\n",
    "    print(neighbor,':', len(df1[df1.neighborhood == neighbor]))"
   ]
  },
  {
   "cell_type": "code",
   "execution_count": 33,
   "id": "58018462",
   "metadata": {},
   "outputs": [
    {
     "data": {
      "text/plain": [
       "<AxesSubplot:xlabel='neighborhood', ylabel='Count'>"
      ]
     },
     "execution_count": 33,
     "metadata": {},
     "output_type": "execute_result"
    },
    {
     "data": {
      "image/png": "[encoded data removed]",
      "text/plain": [
       "<Figure size 432x288 with 1 Axes>"
      ]
     },
     "metadata": {
      "needs_background": "light"
     },
     "output_type": "display_data"
    }
   ],
   "source": [
    "# df1['neighborhood'].value_counts()>10\n",
    "nbhd=df1['neighborhood']\n",
    "nbhd_counts=nbhd.value_counts()\n",
    "nbhd_counts.describe()\n",
    "sns.histplot(nbhd_counts)\n",
    "# nbhd.groupby('neighborhood').value_counts()\n",
    "# df.groupby('neighborhood').value_counts(ascending=True)\n",
    "# np.unique(df1.neighborhood).value_counts()"
   ]
  },
  {
   "cell_type": "code",
   "execution_count": null,
   "id": "2d688f7e",
   "metadata": {},
   "outputs": [],
   "source": []
  }
 ],
 "metadata": {
  "kernelspec": {
   "display_name": "Python 3 (ipykernel)",
   "language": "python",
   "name": "python3"
  },
  "language_info": {
   "codemirror_mode": {
    "name": "ipython",
    "version": 3
   },
   "file_extension": ".py",
   "mimetype": "text/x-python",
   "name": "python",
   "nbconvert_exporter": "python",
   "pygments_lexer": "ipython3",
   "version": "3.10.4"
  }
 },
 "nbformat": 4,
 "nbformat_minor": 5
}
