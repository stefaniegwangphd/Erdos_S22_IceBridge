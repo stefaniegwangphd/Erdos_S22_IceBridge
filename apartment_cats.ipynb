{
 "cells": [
  {
   "cell_type": "markdown",
   "id": "fc463eff-a30d-46c9-b41e-183d08185c6c",
   "metadata": {},
   "source": [
    "# CAT Boost Model"
   ]
  },
  {
   "cell_type": "code",
   "execution_count": 19,
   "id": "c7bf82bf-a168-49e0-abeb-10f35ce9a7eb",
   "metadata": {},
   "outputs": [],
   "source": [
    "import pandas as pd\n",
    "import numpy as np\n",
    "import matplotlib.pyplot as plt\n",
    "import seaborn as sns\n",
    "from sklearn.model_selection import train_test_split\n",
    "from catboost import CatBoostRegressor\n",
    "\n",
    "sns.set_style(\"whitegrid\")"
   ]
  },
  {
   "cell_type": "markdown",
   "id": "6b996f19-e508-4b9e-9fdf-01801bec966d",
   "metadata": {},
   "source": [
    "The cleaned and prepared scraped dataset is stored in apartments_final.csv"
   ]
  },
  {
   "cell_type": "code",
   "execution_count": 7,
   "id": "eac0f929-9636-4916-b0b7-4982901f7360",
   "metadata": {},
   "outputs": [
    {
     "data": {
      "text/html": [
       "<div>\n",
       "<style scoped>\n",
       "    .dataframe tbody tr th:only-of-type {\n",
       "        vertical-align: middle;\n",
       "    }\n",
       "\n",
       "    .dataframe tbody tr th {\n",
       "        vertical-align: top;\n",
       "    }\n",
       "\n",
       "    .dataframe thead th {\n",
       "        text-align: right;\n",
       "    }\n",
       "</style>\n",
       "<table border=\"1\" class=\"dataframe\">\n",
       "  <thead>\n",
       "    <tr style=\"text-align: right;\">\n",
       "      <th></th>\n",
       "      <th>url</th>\n",
       "      <th>listing_id</th>\n",
       "      <th>zipcode</th>\n",
       "      <th>monthly_rent</th>\n",
       "      <th>bedrooms</th>\n",
       "      <th>bathrooms</th>\n",
       "      <th>square_feet</th>\n",
       "      <th>walk_score</th>\n",
       "      <th>transit_score</th>\n",
       "      <th>deposit</th>\n",
       "      <th>latitude</th>\n",
       "      <th>longitude</th>\n",
       "      <th>neighborhood</th>\n",
       "      <th>nbhd</th>\n",
       "    </tr>\n",
       "  </thead>\n",
       "  <tbody>\n",
       "    <tr>\n",
       "      <th>0</th>\n",
       "      <td>https://www.apartments.com/2372-beckwith-dr-in...</td>\n",
       "      <td>ze0jqwy</td>\n",
       "      <td>46218</td>\n",
       "      <td>751</td>\n",
       "      <td>2</td>\n",
       "      <td>1.0</td>\n",
       "      <td>679.0</td>\n",
       "      <td>25</td>\n",
       "      <td>33</td>\n",
       "      <td>705</td>\n",
       "      <td>39.80125</td>\n",
       "      <td>-86.12643</td>\n",
       "      <td>Martindale-Brightwood</td>\n",
       "      <td>Martindale-Brightwood</td>\n",
       "    </tr>\n",
       "    <tr>\n",
       "      <th>1</th>\n",
       "      <td>https://www.apartments.com/7491-n-shadeland-av...</td>\n",
       "      <td>s34dq64</td>\n",
       "      <td>46250</td>\n",
       "      <td>1795</td>\n",
       "      <td>3</td>\n",
       "      <td>2.0</td>\n",
       "      <td>2500.0</td>\n",
       "      <td>54</td>\n",
       "      <td>33</td>\n",
       "      <td>1795</td>\n",
       "      <td>39.89034</td>\n",
       "      <td>-86.04540</td>\n",
       "      <td>I-69 Fall Creek</td>\n",
       "      <td>I-69 Fall Creek</td>\n",
       "    </tr>\n",
       "    <tr>\n",
       "      <th>2</th>\n",
       "      <td>https://www.apartments.com/nice-3-bedroom-ranc...</td>\n",
       "      <td>n669z9m</td>\n",
       "      <td>46237</td>\n",
       "      <td>1095</td>\n",
       "      <td>3</td>\n",
       "      <td>1.0</td>\n",
       "      <td>1439.0</td>\n",
       "      <td>29</td>\n",
       "      <td>32</td>\n",
       "      <td>1095</td>\n",
       "      <td>39.72238</td>\n",
       "      <td>-86.12113</td>\n",
       "      <td>University Heights</td>\n",
       "      <td>University Heights</td>\n",
       "    </tr>\n",
       "    <tr>\n",
       "      <th>3</th>\n",
       "      <td>https://www.apartments.com/1102-n-oakland-ave-...</td>\n",
       "      <td>c4kr5zf</td>\n",
       "      <td>46201</td>\n",
       "      <td>1300</td>\n",
       "      <td>3</td>\n",
       "      <td>1.5</td>\n",
       "      <td>1500.0</td>\n",
       "      <td>67</td>\n",
       "      <td>38</td>\n",
       "      <td>800</td>\n",
       "      <td>39.78265</td>\n",
       "      <td>-86.11278</td>\n",
       "      <td>Near Eastside</td>\n",
       "      <td>Near Eastside</td>\n",
       "    </tr>\n",
       "    <tr>\n",
       "      <th>4</th>\n",
       "      <td>https://www.apartments.com/634-e-10th-st-india...</td>\n",
       "      <td>rl2dfp0</td>\n",
       "      <td>46202</td>\n",
       "      <td>1600</td>\n",
       "      <td>2</td>\n",
       "      <td>2.0</td>\n",
       "      <td>1400.0</td>\n",
       "      <td>74</td>\n",
       "      <td>53</td>\n",
       "      <td>1600</td>\n",
       "      <td>39.78089</td>\n",
       "      <td>-86.14610</td>\n",
       "      <td>Chatham Arch</td>\n",
       "      <td>Chatham Arch</td>\n",
       "    </tr>\n",
       "  </tbody>\n",
       "</table>\n",
       "</div>"
      ],
      "text/plain": [
       "                                                 url listing_id  zipcode  \\\n",
       "0  https://www.apartments.com/2372-beckwith-dr-in...    ze0jqwy    46218   \n",
       "1  https://www.apartments.com/7491-n-shadeland-av...    s34dq64    46250   \n",
       "2  https://www.apartments.com/nice-3-bedroom-ranc...    n669z9m    46237   \n",
       "3  https://www.apartments.com/1102-n-oakland-ave-...    c4kr5zf    46201   \n",
       "4  https://www.apartments.com/634-e-10th-st-india...    rl2dfp0    46202   \n",
       "\n",
       "   monthly_rent  bedrooms  bathrooms  square_feet  walk_score  transit_score  \\\n",
       "0           751         2        1.0        679.0          25             33   \n",
       "1          1795         3        2.0       2500.0          54             33   \n",
       "2          1095         3        1.0       1439.0          29             32   \n",
       "3          1300         3        1.5       1500.0          67             38   \n",
       "4          1600         2        2.0       1400.0          74             53   \n",
       "\n",
       "   deposit  latitude  longitude           neighborhood                   nbhd  \n",
       "0      705  39.80125  -86.12643  Martindale-Brightwood  Martindale-Brightwood  \n",
       "1     1795  39.89034  -86.04540        I-69 Fall Creek        I-69 Fall Creek  \n",
       "2     1095  39.72238  -86.12113     University Heights     University Heights  \n",
       "3      800  39.78265  -86.11278          Near Eastside          Near Eastside  \n",
       "4     1600  39.78089  -86.14610           Chatham Arch           Chatham Arch  "
      ]
     },
     "execution_count": 7,
     "metadata": {},
     "output_type": "execute_result"
    }
   ],
   "source": [
    "df = pd.read_csv(\"apartments_final.csv\")\n",
    "\n",
    "df.head()\n"
   ]
  },
  {
   "cell_type": "code",
   "execution_count": 13,
   "id": "3bd1dcd3-4e22-4703-b52c-8956edb78dac",
   "metadata": {},
   "outputs": [
    {
     "data": {
      "text/html": [
       "<div>\n",
       "<style scoped>\n",
       "    .dataframe tbody tr th:only-of-type {\n",
       "        vertical-align: middle;\n",
       "    }\n",
       "\n",
       "    .dataframe tbody tr th {\n",
       "        vertical-align: top;\n",
       "    }\n",
       "\n",
       "    .dataframe thead th {\n",
       "        text-align: right;\n",
       "    }\n",
       "</style>\n",
       "<table border=\"1\" class=\"dataframe\">\n",
       "  <thead>\n",
       "    <tr style=\"text-align: right;\">\n",
       "      <th></th>\n",
       "      <th>zipcode</th>\n",
       "      <th>monthly_rent</th>\n",
       "      <th>bedrooms</th>\n",
       "      <th>bathrooms</th>\n",
       "      <th>square_feet</th>\n",
       "      <th>walk_score</th>\n",
       "      <th>transit_score</th>\n",
       "      <th>deposit</th>\n",
       "      <th>latitude</th>\n",
       "      <th>longitude</th>\n",
       "    </tr>\n",
       "  </thead>\n",
       "  <tbody>\n",
       "    <tr>\n",
       "      <th>count</th>\n",
       "      <td>871.000000</td>\n",
       "      <td>871.000000</td>\n",
       "      <td>871.000000</td>\n",
       "      <td>871.000000</td>\n",
       "      <td>871.000000</td>\n",
       "      <td>871.000000</td>\n",
       "      <td>871.000000</td>\n",
       "      <td>871.000000</td>\n",
       "      <td>871.000000</td>\n",
       "      <td>871.000000</td>\n",
       "    </tr>\n",
       "    <tr>\n",
       "      <th>mean</th>\n",
       "      <td>46222.282434</td>\n",
       "      <td>1283.833525</td>\n",
       "      <td>2.045924</td>\n",
       "      <td>1.564868</td>\n",
       "      <td>1130.678530</td>\n",
       "      <td>37.180253</td>\n",
       "      <td>25.227325</td>\n",
       "      <td>1207.065442</td>\n",
       "      <td>39.791344</td>\n",
       "      <td>-86.148214</td>\n",
       "    </tr>\n",
       "    <tr>\n",
       "      <th>std</th>\n",
       "      <td>31.355223</td>\n",
       "      <td>454.606361</td>\n",
       "      <td>1.121454</td>\n",
       "      <td>0.590232</td>\n",
       "      <td>627.812978</td>\n",
       "      <td>23.783910</td>\n",
       "      <td>17.084812</td>\n",
       "      <td>513.401254</td>\n",
       "      <td>0.079023</td>\n",
       "      <td>0.092329</td>\n",
       "    </tr>\n",
       "    <tr>\n",
       "      <th>min</th>\n",
       "      <td>46038.000000</td>\n",
       "      <td>450.000000</td>\n",
       "      <td>0.000000</td>\n",
       "      <td>1.000000</td>\n",
       "      <td>50.000000</td>\n",
       "      <td>0.000000</td>\n",
       "      <td>0.000000</td>\n",
       "      <td>100.000000</td>\n",
       "      <td>39.626880</td>\n",
       "      <td>-86.341270</td>\n",
       "    </tr>\n",
       "    <tr>\n",
       "      <th>25%</th>\n",
       "      <td>46211.000000</td>\n",
       "      <td>909.000000</td>\n",
       "      <td>1.000000</td>\n",
       "      <td>1.000000</td>\n",
       "      <td>700.000000</td>\n",
       "      <td>16.000000</td>\n",
       "      <td>14.000000</td>\n",
       "      <td>850.000000</td>\n",
       "      <td>39.748400</td>\n",
       "      <td>-86.214015</td>\n",
       "    </tr>\n",
       "    <tr>\n",
       "      <th>50%</th>\n",
       "      <td>46224.000000</td>\n",
       "      <td>1202.000000</td>\n",
       "      <td>2.000000</td>\n",
       "      <td>1.500000</td>\n",
       "      <td>1025.000000</td>\n",
       "      <td>37.000000</td>\n",
       "      <td>29.000000</td>\n",
       "      <td>1150.000000</td>\n",
       "      <td>39.795340</td>\n",
       "      <td>-86.143990</td>\n",
       "    </tr>\n",
       "    <tr>\n",
       "      <th>75%</th>\n",
       "      <td>46237.000000</td>\n",
       "      <td>1634.500000</td>\n",
       "      <td>3.000000</td>\n",
       "      <td>2.000000</td>\n",
       "      <td>1390.000000</td>\n",
       "      <td>54.000000</td>\n",
       "      <td>35.000000</td>\n",
       "      <td>1597.000000</td>\n",
       "      <td>39.849420</td>\n",
       "      <td>-86.084705</td>\n",
       "    </tr>\n",
       "    <tr>\n",
       "      <th>max</th>\n",
       "      <td>46298.000000</td>\n",
       "      <td>2500.000000</td>\n",
       "      <td>5.000000</td>\n",
       "      <td>4.000000</td>\n",
       "      <td>9991.000000</td>\n",
       "      <td>99.000000</td>\n",
       "      <td>68.000000</td>\n",
       "      <td>2500.000000</td>\n",
       "      <td>39.946250</td>\n",
       "      <td>-85.949920</td>\n",
       "    </tr>\n",
       "  </tbody>\n",
       "</table>\n",
       "</div>"
      ],
      "text/plain": [
       "            zipcode  monthly_rent    bedrooms   bathrooms  square_feet  \\\n",
       "count    871.000000    871.000000  871.000000  871.000000   871.000000   \n",
       "mean   46222.282434   1283.833525    2.045924    1.564868  1130.678530   \n",
       "std       31.355223    454.606361    1.121454    0.590232   627.812978   \n",
       "min    46038.000000    450.000000    0.000000    1.000000    50.000000   \n",
       "25%    46211.000000    909.000000    1.000000    1.000000   700.000000   \n",
       "50%    46224.000000   1202.000000    2.000000    1.500000  1025.000000   \n",
       "75%    46237.000000   1634.500000    3.000000    2.000000  1390.000000   \n",
       "max    46298.000000   2500.000000    5.000000    4.000000  9991.000000   \n",
       "\n",
       "       walk_score  transit_score      deposit    latitude   longitude  \n",
       "count  871.000000     871.000000   871.000000  871.000000  871.000000  \n",
       "mean    37.180253      25.227325  1207.065442   39.791344  -86.148214  \n",
       "std     23.783910      17.084812   513.401254    0.079023    0.092329  \n",
       "min      0.000000       0.000000   100.000000   39.626880  -86.341270  \n",
       "25%     16.000000      14.000000   850.000000   39.748400  -86.214015  \n",
       "50%     37.000000      29.000000  1150.000000   39.795340  -86.143990  \n",
       "75%     54.000000      35.000000  1597.000000   39.849420  -86.084705  \n",
       "max     99.000000      68.000000  2500.000000   39.946250  -85.949920  "
      ]
     },
     "execution_count": 13,
     "metadata": {},
     "output_type": "execute_result"
    }
   ],
   "source": [
    "df.describe()"
   ]
  },
  {
   "cell_type": "code",
   "execution_count": 14,
   "id": "72ef37d8-459a-4453-a73c-65d694d9ae0e",
   "metadata": {},
   "outputs": [
    {
     "data": {
      "text/plain": [
       "url               object\n",
       "listing_id        object\n",
       "zipcode            int64\n",
       "monthly_rent       int64\n",
       "bedrooms           int64\n",
       "bathrooms        float64\n",
       "square_feet      float64\n",
       "walk_score         int64\n",
       "transit_score      int64\n",
       "deposit            int64\n",
       "latitude         float64\n",
       "longitude        float64\n",
       "neighborhood      object\n",
       "nbhd              object\n",
       "dtype: object"
      ]
     },
     "execution_count": 14,
     "metadata": {},
     "output_type": "execute_result"
    }
   ],
   "source": [
    "df.dtypes"
   ]
  },
  {
   "cell_type": "code",
   "execution_count": 123,
   "id": "bebe54b1-9bc7-4e29-a74d-6ee9df6c7f0d",
   "metadata": {},
   "outputs": [],
   "source": [
    "df[\"bedXbath\"] = df.bedrooms * df.bathrooms\n",
    "df[\"feet_per_room\"] = df.square_feet/(df.bedrooms+df.bathrooms)\n",
    "\n",
    "X = df.copy()\n",
    "y = df['monthly_rent']\n",
    "\n",
    "drop_cols = [\n",
    "             \"monthly_rent\",\n",
    "             \"deposit\",\n",
    "             \"listing_id\",\n",
    "             #\"latitude\",\n",
    "             #\"longitude\",\n",
    "             \"url\",\n",
    "             \"neighborhood\",\n",
    "             #\"zipcode\",\n",
    "             #\"nbhd\",\n",
    "              ]\n",
    "for col in drop_cols:\n",
    "    X.drop(col, axis=1, inplace=True)"
   ]
  },
  {
   "cell_type": "code",
   "execution_count": 124,
   "id": "50944a5c-cfb7-4092-8208-bd0ef9ea586b",
   "metadata": {},
   "outputs": [],
   "source": [
    "X_train, X_test, y_train, y_test = train_test_split(X, y, train_size=0.8, random_state=3)"
   ]
  },
  {
   "cell_type": "code",
   "execution_count": 125,
   "id": "7ef284db-7e35-42d0-98b1-653a3f461caf",
   "metadata": {},
   "outputs": [
    {
     "data": {
      "application/vnd.jupyter.widget-view+json": {
       "model_id": "d25e45dca73e4cfdb775f7c82093a169",
       "version_major": 2,
       "version_minor": 0
      },
      "text/plain": [
       "MetricVisualizer(layout=Layout(align_self='stretch', height='500px'))"
      ]
     },
     "metadata": {},
     "output_type": "display_data"
    },
    {
     "name": "stdout",
     "output_type": "stream",
     "text": [
      "0:\tlearn: 399.5281878\ttest: 363.4261193\tbest: 363.4261193 (0)\ttotal: 18.3ms\tremaining: 1.81s\n",
      "1:\tlearn: 357.2916847\ttest: 320.5150420\tbest: 320.5150420 (1)\ttotal: 30.1ms\tremaining: 1.48s\n",
      "2:\tlearn: 331.7030627\ttest: 298.2219997\tbest: 298.2219997 (2)\ttotal: 43.3ms\tremaining: 1.4s\n",
      "3:\tlearn: 312.3089615\ttest: 282.0784326\tbest: 282.0784326 (3)\ttotal: 58.1ms\tremaining: 1.39s\n",
      "4:\tlearn: 298.7377768\ttest: 273.9955722\tbest: 273.9955722 (4)\ttotal: 70.7ms\tremaining: 1.34s\n",
      "5:\tlearn: 290.0367575\ttest: 269.8684002\tbest: 269.8684002 (5)\ttotal: 85.2ms\tremaining: 1.33s\n",
      "6:\tlearn: 284.0729935\ttest: 266.9170142\tbest: 266.9170142 (6)\ttotal: 98.5ms\tremaining: 1.31s\n",
      "7:\tlearn: 276.4287189\ttest: 262.7788808\tbest: 262.7788808 (7)\ttotal: 114ms\tremaining: 1.31s\n",
      "8:\tlearn: 272.4559021\ttest: 260.4953007\tbest: 260.4953007 (8)\ttotal: 132ms\tremaining: 1.34s\n",
      "9:\tlearn: 268.2475973\ttest: 260.4665728\tbest: 260.4665728 (9)\ttotal: 145ms\tremaining: 1.31s\n",
      "10:\tlearn: 265.7343825\ttest: 259.0855484\tbest: 259.0855484 (10)\ttotal: 163ms\tremaining: 1.32s\n",
      "11:\tlearn: 262.8841459\ttest: 258.2469955\tbest: 258.2469955 (11)\ttotal: 178ms\tremaining: 1.3s\n",
      "12:\tlearn: 259.5634979\ttest: 256.9558538\tbest: 256.9558538 (12)\ttotal: 199ms\tremaining: 1.33s\n",
      "13:\tlearn: 257.0729716\ttest: 256.0515827\tbest: 256.0515827 (13)\ttotal: 214ms\tremaining: 1.31s\n",
      "14:\tlearn: 254.9157929\ttest: 254.2294385\tbest: 254.2294385 (14)\ttotal: 230ms\tremaining: 1.3s\n",
      "15:\tlearn: 253.4298212\ttest: 252.2455240\tbest: 252.2455240 (15)\ttotal: 255ms\tremaining: 1.34s\n",
      "16:\tlearn: 252.1224967\ttest: 251.2744543\tbest: 251.2744543 (16)\ttotal: 273ms\tremaining: 1.33s\n",
      "17:\tlearn: 250.1923268\ttest: 250.9130058\tbest: 250.9130058 (17)\ttotal: 290ms\tremaining: 1.32s\n",
      "18:\tlearn: 248.7682966\ttest: 250.1114196\tbest: 250.1114196 (18)\ttotal: 306ms\tremaining: 1.3s\n",
      "19:\tlearn: 247.6677927\ttest: 250.5121049\tbest: 250.1114196 (18)\ttotal: 321ms\tremaining: 1.28s\n",
      "20:\tlearn: 246.4499157\ttest: 249.6663507\tbest: 249.6663507 (20)\ttotal: 340ms\tremaining: 1.28s\n",
      "21:\tlearn: 245.3569409\ttest: 249.3434965\tbest: 249.3434965 (21)\ttotal: 356ms\tremaining: 1.26s\n",
      "22:\tlearn: 245.1225244\ttest: 250.2028374\tbest: 249.3434965 (21)\ttotal: 372ms\tremaining: 1.25s\n",
      "23:\tlearn: 244.1175157\ttest: 249.8248024\tbest: 249.3434965 (21)\ttotal: 387ms\tremaining: 1.22s\n",
      "24:\tlearn: 243.2363687\ttest: 248.6544652\tbest: 248.6544652 (24)\ttotal: 403ms\tremaining: 1.21s\n",
      "25:\tlearn: 241.0924180\ttest: 247.2341407\tbest: 247.2341407 (25)\ttotal: 416ms\tremaining: 1.18s\n",
      "26:\tlearn: 239.4926245\ttest: 245.4853261\tbest: 245.4853261 (26)\ttotal: 429ms\tremaining: 1.16s\n",
      "27:\tlearn: 237.0848377\ttest: 244.6681574\tbest: 244.6681574 (27)\ttotal: 445ms\tremaining: 1.14s\n",
      "28:\tlearn: 233.5467494\ttest: 242.4245915\tbest: 242.4245915 (28)\ttotal: 459ms\tremaining: 1.12s\n",
      "29:\tlearn: 232.5690362\ttest: 242.8994863\tbest: 242.4245915 (28)\ttotal: 475ms\tremaining: 1.11s\n",
      "30:\tlearn: 232.3242719\ttest: 243.5093338\tbest: 242.4245915 (28)\ttotal: 491ms\tremaining: 1.09s\n",
      "31:\tlearn: 230.2455097\ttest: 243.2635201\tbest: 242.4245915 (28)\ttotal: 510ms\tremaining: 1.08s\n",
      "32:\tlearn: 226.6391944\ttest: 241.8242826\tbest: 241.8242826 (32)\ttotal: 522ms\tremaining: 1.06s\n",
      "33:\tlearn: 225.1406574\ttest: 240.8833409\tbest: 240.8833409 (33)\ttotal: 538ms\tremaining: 1.04s\n",
      "34:\tlearn: 221.9110493\ttest: 240.0600345\tbest: 240.0600345 (34)\ttotal: 553ms\tremaining: 1.03s\n",
      "35:\tlearn: 221.1439055\ttest: 239.7662975\tbest: 239.7662975 (35)\ttotal: 567ms\tremaining: 1.01s\n",
      "36:\tlearn: 220.7455088\ttest: 239.6718890\tbest: 239.6718890 (36)\ttotal: 585ms\tremaining: 996ms\n",
      "37:\tlearn: 218.8456115\ttest: 240.6470715\tbest: 239.6718890 (36)\ttotal: 602ms\tremaining: 982ms\n",
      "38:\tlearn: 216.9234694\ttest: 239.0698077\tbest: 239.0698077 (38)\ttotal: 618ms\tremaining: 967ms\n",
      "39:\tlearn: 215.7669983\ttest: 238.3874427\tbest: 238.3874427 (39)\ttotal: 636ms\tremaining: 954ms\n",
      "40:\tlearn: 215.1803127\ttest: 238.1525953\tbest: 238.1525953 (40)\ttotal: 652ms\tremaining: 938ms\n",
      "41:\tlearn: 214.7609196\ttest: 238.3958643\tbest: 238.1525953 (40)\ttotal: 667ms\tremaining: 921ms\n",
      "42:\tlearn: 214.5032562\ttest: 238.3627719\tbest: 238.1525953 (40)\ttotal: 682ms\tremaining: 904ms\n",
      "43:\tlearn: 214.3436402\ttest: 238.8568501\tbest: 238.1525953 (40)\ttotal: 697ms\tremaining: 887ms\n",
      "44:\tlearn: 213.5432200\ttest: 239.0005248\tbest: 238.1525953 (40)\ttotal: 714ms\tremaining: 872ms\n",
      "45:\tlearn: 212.1961585\ttest: 239.3181669\tbest: 238.1525953 (40)\ttotal: 731ms\tremaining: 858ms\n",
      "46:\tlearn: 209.8913058\ttest: 237.7716665\tbest: 237.7716665 (46)\ttotal: 745ms\tremaining: 840ms\n",
      "47:\tlearn: 208.2964274\ttest: 237.1243987\tbest: 237.1243987 (47)\ttotal: 765ms\tremaining: 828ms\n",
      "48:\tlearn: 207.9566270\ttest: 236.7205883\tbest: 236.7205883 (48)\ttotal: 779ms\tremaining: 810ms\n",
      "49:\tlearn: 207.6697596\ttest: 236.3314343\tbest: 236.3314343 (49)\ttotal: 799ms\tremaining: 799ms\n",
      "50:\tlearn: 206.1812363\ttest: 236.7611829\tbest: 236.3314343 (49)\ttotal: 813ms\tremaining: 781ms\n",
      "51:\tlearn: 204.4668809\ttest: 236.5563229\tbest: 236.3314343 (49)\ttotal: 834ms\tremaining: 770ms\n",
      "52:\tlearn: 204.2207732\ttest: 236.7753992\tbest: 236.3314343 (49)\ttotal: 846ms\tremaining: 751ms\n",
      "53:\tlearn: 203.1614487\ttest: 236.7888067\tbest: 236.3314343 (49)\ttotal: 865ms\tremaining: 736ms\n",
      "54:\tlearn: 200.8546036\ttest: 236.5652037\tbest: 236.3314343 (49)\ttotal: 878ms\tremaining: 718ms\n",
      "55:\tlearn: 199.9126023\ttest: 235.7278197\tbest: 235.7278197 (55)\ttotal: 891ms\tremaining: 700ms\n",
      "56:\tlearn: 198.8736296\ttest: 235.5928715\tbest: 235.5928715 (56)\ttotal: 910ms\tremaining: 687ms\n",
      "57:\tlearn: 197.9108238\ttest: 234.8703743\tbest: 234.8703743 (57)\ttotal: 925ms\tremaining: 670ms\n",
      "58:\tlearn: 197.6492445\ttest: 235.2547606\tbest: 234.8703743 (57)\ttotal: 943ms\tremaining: 655ms\n",
      "59:\tlearn: 195.7815188\ttest: 235.0705243\tbest: 234.8703743 (57)\ttotal: 955ms\tremaining: 637ms\n",
      "60:\tlearn: 194.6400813\ttest: 235.2111624\tbest: 234.8703743 (57)\ttotal: 979ms\tremaining: 626ms\n",
      "61:\tlearn: 193.2753161\ttest: 234.6051627\tbest: 234.6051627 (61)\ttotal: 993ms\tremaining: 609ms\n",
      "62:\tlearn: 192.7861429\ttest: 234.3834183\tbest: 234.3834183 (62)\ttotal: 1.01s\tremaining: 592ms\n",
      "63:\tlearn: 192.1765717\ttest: 234.4816000\tbest: 234.3834183 (62)\ttotal: 1.02s\tremaining: 575ms\n",
      "64:\tlearn: 191.8887617\ttest: 234.1950830\tbest: 234.1950830 (64)\ttotal: 1.04s\tremaining: 560ms\n",
      "65:\tlearn: 191.3288411\ttest: 234.1310147\tbest: 234.1310147 (65)\ttotal: 1.05s\tremaining: 543ms\n",
      "66:\tlearn: 190.5061449\ttest: 233.6994757\tbest: 233.6994757 (66)\ttotal: 1.09s\tremaining: 538ms\n",
      "67:\tlearn: 190.3220904\ttest: 233.5553963\tbest: 233.5553963 (67)\ttotal: 1.11s\tremaining: 524ms\n",
      "68:\tlearn: 190.2009129\ttest: 233.9330540\tbest: 233.5553963 (67)\ttotal: 1.13s\tremaining: 507ms\n",
      "69:\tlearn: 190.0993579\ttest: 234.3116707\tbest: 233.5553963 (67)\ttotal: 1.15s\tremaining: 492ms\n",
      "70:\tlearn: 189.8307108\ttest: 235.3254524\tbest: 233.5553963 (67)\ttotal: 1.16s\tremaining: 475ms\n",
      "71:\tlearn: 188.9615232\ttest: 235.6679238\tbest: 233.5553963 (67)\ttotal: 1.18s\tremaining: 458ms\n",
      "72:\tlearn: 188.3238642\ttest: 235.8261257\tbest: 233.5553963 (67)\ttotal: 1.2s\tremaining: 443ms\n",
      "73:\tlearn: 187.0630858\ttest: 236.0924367\tbest: 233.5553963 (67)\ttotal: 1.21s\tremaining: 425ms\n",
      "74:\tlearn: 185.1468754\ttest: 235.8877324\tbest: 233.5553963 (67)\ttotal: 1.23s\tremaining: 410ms\n",
      "75:\tlearn: 183.8294953\ttest: 235.8226170\tbest: 233.5553963 (67)\ttotal: 1.24s\tremaining: 393ms\n",
      "76:\tlearn: 183.7024429\ttest: 236.2601796\tbest: 233.5553963 (67)\ttotal: 1.26s\tremaining: 377ms\n",
      "77:\tlearn: 181.9537227\ttest: 235.9871630\tbest: 233.5553963 (67)\ttotal: 1.28s\tremaining: 361ms\n",
      "78:\tlearn: 180.7241392\ttest: 235.9645498\tbest: 233.5553963 (67)\ttotal: 1.29s\tremaining: 344ms\n",
      "79:\tlearn: 178.7539918\ttest: 235.1666583\tbest: 233.5553963 (67)\ttotal: 1.31s\tremaining: 328ms\n",
      "80:\tlearn: 178.4979542\ttest: 234.9439450\tbest: 233.5553963 (67)\ttotal: 1.33s\tremaining: 311ms\n",
      "81:\tlearn: 177.9169247\ttest: 234.7374600\tbest: 233.5553963 (67)\ttotal: 1.34s\tremaining: 295ms\n",
      "82:\tlearn: 175.9220242\ttest: 235.6309602\tbest: 233.5553963 (67)\ttotal: 1.36s\tremaining: 278ms\n",
      "83:\tlearn: 174.8859361\ttest: 235.0941551\tbest: 233.5553963 (67)\ttotal: 1.37s\tremaining: 262ms\n",
      "84:\tlearn: 174.3509021\ttest: 234.5056935\tbest: 233.5553963 (67)\ttotal: 1.39s\tremaining: 245ms\n",
      "85:\tlearn: 173.1298517\ttest: 233.4097804\tbest: 233.4097804 (85)\ttotal: 1.4s\tremaining: 229ms\n",
      "86:\tlearn: 172.2309618\ttest: 232.5462076\tbest: 232.5462076 (86)\ttotal: 1.42s\tremaining: 212ms\n",
      "87:\tlearn: 171.5972988\ttest: 233.3239753\tbest: 232.5462076 (86)\ttotal: 1.44s\tremaining: 196ms\n",
      "88:\tlearn: 170.0359935\ttest: 233.4473045\tbest: 232.5462076 (86)\ttotal: 1.45s\tremaining: 179ms\n",
      "89:\tlearn: 169.9340185\ttest: 233.3451936\tbest: 232.5462076 (86)\ttotal: 1.46s\tremaining: 163ms\n",
      "90:\tlearn: 169.3794753\ttest: 233.1175951\tbest: 232.5462076 (86)\ttotal: 1.51s\tremaining: 150ms\n",
      "91:\tlearn: 168.6566616\ttest: 232.9271287\tbest: 232.5462076 (86)\ttotal: 1.53s\tremaining: 133ms\n",
      "92:\tlearn: 168.5748512\ttest: 232.9319115\tbest: 232.5462076 (86)\ttotal: 1.55s\tremaining: 116ms\n",
      "93:\tlearn: 167.9755469\ttest: 233.2730465\tbest: 232.5462076 (86)\ttotal: 1.56s\tremaining: 99.5ms\n",
      "94:\tlearn: 167.6166137\ttest: 232.9416683\tbest: 232.5462076 (86)\ttotal: 1.57s\tremaining: 82.6ms\n",
      "95:\tlearn: 167.4351282\ttest: 232.8315701\tbest: 232.5462076 (86)\ttotal: 1.58s\tremaining: 66ms\n",
      "96:\tlearn: 166.3980596\ttest: 233.1464106\tbest: 232.5462076 (86)\ttotal: 1.6s\tremaining: 49.4ms\n",
      "97:\tlearn: 165.7815595\ttest: 233.5212597\tbest: 232.5462076 (86)\ttotal: 1.61s\tremaining: 32.9ms\n",
      "98:\tlearn: 165.6387374\ttest: 233.5412728\tbest: 232.5462076 (86)\ttotal: 1.63s\tremaining: 16.5ms\n",
      "99:\tlearn: 165.5500138\ttest: 233.5346926\tbest: 232.5462076 (86)\ttotal: 1.64s\tremaining: 0us\n",
      "\n",
      "bestTest = 232.5462076\n",
      "bestIteration = 86\n",
      "\n",
      "Shrink model to first 87 iterations.\n"
     ]
    },
    {
     "data": {
      "text/plain": [
       "<catboost.core.CatBoostRegressor at 0x1734bfa4f10>"
      ]
     },
     "execution_count": 125,
     "metadata": {},
     "output_type": "execute_result"
    }
   ],
   "source": [
    "model = CatBoostRegressor(iterations=100, depth=4, learning_rate=0.3, loss_function='RMSE')\n",
    "model.fit(X_train, y_train,\n",
    "          cat_features=[\"nbhd\"],\n",
    "          eval_set=(X_test, y_test),plot=True)"
   ]
  },
  {
   "cell_type": "code",
   "execution_count": 126,
   "id": "07e8a9f1-66ca-4736-a476-34a6bff9703a",
   "metadata": {},
   "outputs": [
    {
     "data": {
      "text/plain": [
       "0.6971764333790181"
      ]
     },
     "execution_count": 126,
     "metadata": {},
     "output_type": "execute_result"
    }
   ],
   "source": [
    "model.score(X_test, y_test)"
   ]
  },
  {
   "cell_type": "code",
   "execution_count": 127,
   "id": "189ddb4e-b901-4bfe-a69c-a697639ee559",
   "metadata": {},
   "outputs": [],
   "source": [
    "predicted = model.predict(X_test)"
   ]
  },
  {
   "cell_type": "code",
   "execution_count": 128,
   "id": "d5ca5207-efe4-4164-bfd8-b84498a31341",
   "metadata": {},
   "outputs": [],
   "source": [
    "baseline = y.mean()"
   ]
  },
  {
   "cell_type": "code",
   "execution_count": 129,
   "id": "864cae6a-6c5a-41af-ac3f-eda72d16c78d",
   "metadata": {},
   "outputs": [
    {
     "name": "stdout",
     "output_type": "stream",
     "text": [
      "Baseline RMSE: 179309.48955428004\n",
      "Baseline rent error: 423.449512402931\n"
     ]
    }
   ],
   "source": [
    "baseline_var = ((y_test-baseline)**2).sum()/len(y_test)\n",
    "print(f\"Baseline RMSE: {baseline_var}\")\n",
    "print(f\"Baseline rent error: {baseline_var**0.5}\")"
   ]
  },
  {
   "cell_type": "code",
   "execution_count": 130,
   "id": "5d645119-a66c-4999-aac6-9ac2c4f2a381",
   "metadata": {},
   "outputs": [
    {
     "name": "stdout",
     "output_type": "stream",
     "text": [
      "CATboost RMSE: 54077.738655310175\n",
      "CATBoost rent error: 232.5462075702594\n"
     ]
    }
   ],
   "source": [
    "model_var = ((y_test-predicted)**2).sum()/len(y_test)\n",
    "print(f\"CATboost RMSE: {model_var}\")\n",
    "print(f\"CATBoost rent error: {model_var**0.5}\")"
   ]
  },
  {
   "cell_type": "code",
   "execution_count": 137,
   "id": "dda4f54b-5b9f-466c-8e4d-8960815dac41",
   "metadata": {},
   "outputs": [
    {
     "data": {
      "text/plain": [
       "Text(0, 0.5, 'Percent Error [Model-Listing]')"
      ]
     },
     "execution_count": 137,
     "metadata": {},
     "output_type": "execute_result"
    },
    {
     "data": {
      "image/png": "[encoded data removed]",
      "text/plain": [
       "<Figure size 720x1440 with 2 Axes>"
      ]
     },
     "metadata": {},
     "output_type": "display_data"
    }
   ],
   "source": [
    "fig, axs = plt.subplots(2,1, figsize=(10,20))\n",
    "axs[0].errorbar(y_test, predicted, yerr=None, linestyle=\"\", marker=\".\")\n",
    "axs[0].plot(range(2500), range(2500), linestyle=\"--\", linewidth=\"2\", color=\"k\")\n",
    "axs[0].set_xlabel(\"Listed Rent [$]\")\n",
    "axs[0].set_ylabel(\"Predicted Rent[$]\")\n",
    "\n",
    "axs[1].scatter(y_test, (predicted-y_test)*100/y_test)\n",
    "axs[0].set_xlabel(\"Listed Rent [$]\")\n",
    "axs[0].set_ylabel(\"Percent Error [Model-Listing]\")"
   ]
  },
  {
   "cell_type": "code",
   "execution_count": null,
   "id": "be643f42-1083-4555-92af-7400c1979724",
   "metadata": {},
   "outputs": [],
   "source": []
  }
 ],
 "metadata": {
  "kernelspec": {
   "display_name": "Python 3 (ipykernel)",
   "language": "python",
   "name": "python3"
  },
  "language_info": {
   "codemirror_mode": {
    "name": "ipython",
    "version": 3
   },
   "file_extension": ".py",
   "mimetype": "text/x-python",
   "name": "python",
   "nbconvert_exporter": "python",
   "pygments_lexer": "ipython3",
   "version": "3.9.7"
  }
 },
 "nbformat": 4,
 "nbformat_minor": 5
}
