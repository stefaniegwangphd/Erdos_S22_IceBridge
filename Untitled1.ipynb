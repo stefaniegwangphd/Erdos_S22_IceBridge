{
 "cells": [
  {
   "cell_type": "code",
   "execution_count": 1,
   "id": "870ee88c",
   "metadata": {},
   "outputs": [],
   "source": [
    "import pandas as pd\n",
    "import numpy as np\n",
    "\n",
    "import matplotlib\n",
    "import matplotlib.pyplot as plt\n",
    "import seaborn as sns\n",
    "\n",
    "\n",
    "sns.set_style(\"whitegrid\")\n",
    "pd.set_option('display.float_format', lambda x: '%.3f' % x)"
   ]
  },
  {
   "cell_type": "code",
   "execution_count": 12,
   "id": "d2a0ec61",
   "metadata": {},
   "outputs": [],
   "source": [
    "df = pd.read_csv('apartment_dotcom.csv')\n",
    "df1=pd.read_csv('apartments_final.csv')"
   ]
  },
  {
   "cell_type": "code",
   "execution_count": 8,
   "id": "f5e844fe",
   "metadata": {},
   "outputs": [
    {
     "data": {
      "text/plain": [
       "Index(['Unnamed: 0', 'url', 'listingid', 'ZIP', 'Monthly Rent', 'Bedrooms',\n",
       "       'Bathrooms', 'Square Feet', 'walkScore', 'transitScore', 'Deposit',\n",
       "       'latitude', 'longitude', 'Pet', 'neighborhood'],\n",
       "      dtype='object')"
      ]
     },
     "execution_count": 8,
     "metadata": {},
     "output_type": "execute_result"
    }
   ],
   "source": [
    "df.columns"
   ]
  },
  {
   "cell_type": "code",
   "execution_count": 10,
   "id": "d6faa238",
   "metadata": {},
   "outputs": [
    {
     "data": {
      "text/html": [
       "<div>\n",
       "<style scoped>\n",
       "    .dataframe tbody tr th:only-of-type {\n",
       "        vertical-align: middle;\n",
       "    }\n",
       "\n",
       "    .dataframe tbody tr th {\n",
       "        vertical-align: top;\n",
       "    }\n",
       "\n",
       "    .dataframe thead th {\n",
       "        text-align: right;\n",
       "    }\n",
       "</style>\n",
       "<table border=\"1\" class=\"dataframe\">\n",
       "  <thead>\n",
       "    <tr style=\"text-align: right;\">\n",
       "      <th></th>\n",
       "      <th>Unnamed: 0</th>\n",
       "      <th>url</th>\n",
       "      <th>listingid</th>\n",
       "      <th>ZIP</th>\n",
       "      <th>Monthly Rent</th>\n",
       "      <th>Bedrooms</th>\n",
       "      <th>Bathrooms</th>\n",
       "      <th>Square Feet</th>\n",
       "      <th>walkScore</th>\n",
       "      <th>transitScore</th>\n",
       "      <th>Deposit</th>\n",
       "      <th>latitude</th>\n",
       "      <th>longitude</th>\n",
       "      <th>Pet</th>\n",
       "      <th>neighborhood</th>\n",
       "    </tr>\n",
       "  </thead>\n",
       "  <tbody>\n",
       "    <tr>\n",
       "      <th>82</th>\n",
       "      <td>82</td>\n",
       "      <td>https://www.apartments.com/118-n-state-ave-ind...</td>\n",
       "      <td>kqgrljc</td>\n",
       "      <td>46201.000</td>\n",
       "      <td>$1,100</td>\n",
       "      <td>2 bd</td>\n",
       "      <td>1 ba</td>\n",
       "      <td>NaN</td>\n",
       "      <td>56</td>\n",
       "      <td>40</td>\n",
       "      <td>$1,100 deposit</td>\n",
       "      <td>39.769</td>\n",
       "      <td>-86.131</td>\n",
       "      <td>NaN</td>\n",
       "      <td>Holy Cross</td>\n",
       "    </tr>\n",
       "  </tbody>\n",
       "</table>\n",
       "</div>"
      ],
      "text/plain": [
       "    Unnamed: 0                                                url listingid  \\\n",
       "82          82  https://www.apartments.com/118-n-state-ave-ind...   kqgrljc   \n",
       "\n",
       "         ZIP Monthly Rent Bedrooms Bathrooms Square Feet walkScore  \\\n",
       "82 46201.000       $1,100     2 bd      1 ba         NaN        56   \n",
       "\n",
       "   transitScore         Deposit  latitude  longitude  Pet neighborhood  \n",
       "82           40  $1,100 deposit    39.769    -86.131  NaN   Holy Cross  "
      ]
     },
     "execution_count": 10,
     "metadata": {},
     "output_type": "execute_result"
    }
   ],
   "source": [
    "df.loc[df['listingid']=='kqgrljc']"
   ]
  },
  {
   "cell_type": "code",
   "execution_count": 13,
   "id": "ff162dfb",
   "metadata": {},
   "outputs": [],
   "source": [
    "df1_null_sqft=df1[df1['square_feet'].isna()]"
   ]
  },
  {
   "cell_type": "code",
   "execution_count": 14,
   "id": "b66ef75b",
   "metadata": {},
   "outputs": [],
   "source": [
    "df1=df1.drop(df1_null_sqft.index).copy()"
   ]
  },
  {
   "cell_type": "code",
   "execution_count": 18,
   "id": "62778a1c",
   "metadata": {},
   "outputs": [
    {
     "data": {
      "text/plain": [
       "False"
      ]
     },
     "execution_count": 18,
     "metadata": {},
     "output_type": "execute_result"
    }
   ],
   "source": [
    "df1.isnull().values.any()\n"
   ]
  },
  {
   "cell_type": "code",
   "execution_count": 19,
   "id": "bfd75b45",
   "metadata": {},
   "outputs": [],
   "source": [
    "df1.to_csv (r'apartments_final.csv', index = False, header=True)"
   ]
  },
  {
   "cell_type": "code",
   "execution_count": null,
   "id": "96ac2a64",
   "metadata": {},
   "outputs": [],
   "source": []
  }
 ],
 "metadata": {
  "kernelspec": {
   "display_name": "Python 3 (ipykernel)",
   "language": "python",
   "name": "python3"
  },
  "language_info": {
   "codemirror_mode": {
    "name": "ipython",
    "version": 3
   },
   "file_extension": ".py",
   "mimetype": "text/x-python",
   "name": "python",
   "nbconvert_exporter": "python",
   "pygments_lexer": "ipython3",
   "version": "3.10.4"
  }
 },
 "nbformat": 4,
 "nbformat_minor": 5
}
